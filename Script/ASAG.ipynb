{
 "cells": [
  {
   "cell_type": "markdown",
   "id": "2c92e434",
   "metadata": {},
   "source": [
    "# TO-DO"
   ]
  },
  {
   "cell_type": "markdown",
   "id": "34b2e06e",
   "metadata": {},
   "source": [
    "1. Try AMR dataset\n",
    "2. Train one question after other\n",
    "3. Look for improvements"
   ]
  },
  {
   "cell_type": "markdown",
   "id": "385bb555",
   "metadata": {},
   "source": [
    "# Master Thesis"
   ]
  },
  {
   "cell_type": "markdown",
   "id": "b00d2a8e",
   "metadata": {},
   "source": [
    "### Created on Tuesday  June 7th, 2022\n",
    "### Author: Ganesamanian Kolappan\n",
    "### Project: Computer Assisted Short Answer Grading with Rubrics using Active Learning\n"
   ]
  },
  {
   "cell_type": "markdown",
   "id": "39bfb4f7",
   "metadata": {},
   "source": [
    "## Importing libraries"
   ]
  },
  {
   "cell_type": "markdown",
   "id": "5a0aed51",
   "metadata": {},
   "source": [
    "##### Importing the libraries to be used in the whole application, for the neatness of the code all the imports are done at the start of the coding.\n"
   ]
  },
  {
   "cell_type": "code",
   "execution_count": 1,
   "id": "ef1dbb44",
   "metadata": {},
   "outputs": [],
   "source": [
    "import numpy as np\n",
    "\n",
    "import seaborn as sns\n",
    "from IPython import display\n",
    "import matplotlib.pyplot as plt\n",
    "%matplotlib inline\n",
    "\n",
    "from sklearn.model_selection import train_test_split\n",
    "\n",
    "import tensorflow_hub as hub\n",
    "import tensorflow.compat.v1 as tf\n",
    "tf.disable_eager_execution()\n",
    "\n",
    "from modAL.models import ActiveLearner\n",
    "from modAL.density import information_density\n",
    "\n",
    "from traitlets.config import Configurable, Config\n",
    "from traitlets import HasTraits, TraitError, Int, Bool, validate\n",
    "\n",
    "# Own Imports\n",
    "from EvaluationMetrics import Metric\n",
    "from DatasetExtraction import Readdataset\n",
    "from PreProcessing import PreProcess\n",
    "from Plot import Plot\n",
    "from Processing import Processing\n",
    "from SupervisedLearning import Supervised_learner"
   ]
  },
  {
   "cell_type": "markdown",
   "id": "15b09245",
   "metadata": {},
   "source": [
    "## Active learning \n",
    "**With custom query method based on intensity calculated as below for the unlabled dataset $X_u$**\n",
    "\n",
    "\n",
    "$$    I(x)=\\frac{1}{|X_u|} \\sum_{x'\\in X} sim(x, x') $$\n",
    "\n",
    "$sim(x, x')$ is a cosine similarity function\n"
   ]
  },
  {
   "cell_type": "code",
   "execution_count": 3,
   "id": "7db6b940",
   "metadata": {},
   "outputs": [],
   "source": [
    "# Class for active learning wrapper\n",
    "class Active_learner():\n",
    "    \n",
    "    # Class variables\n",
    "    def __init__(self, X_train, X_test, y_train, y_test, model, percentage):\n",
    "        \n",
    "        self.X_train = X_train\n",
    "        self.X_test = X_test\n",
    "        self.y_train = y_train\n",
    "        self.y_test = y_test\n",
    "        self.model = model         \n",
    "        self.percent = percentage\n",
    "#         self.query_method = query_method\n",
    "    \n",
    "    # Custom query function\n",
    "    def intensity_query(self, learner, X):\n",
    "        cosine_density = information_density(X, 'cosine')\n",
    "        query_idx = np.argmax(cosine_density)        \n",
    "        return query_idx, X[query_idx]\n",
    "    \n",
    "    # Active learning function\n",
    "    def learn(self):\n",
    "        \n",
    "        '''\n",
    "            Input:- Model, train and test set, query method, \n",
    "                    percentage of data for training AL\n",
    "            Output:- Accuracy graph and prediction\n",
    "        '''\n",
    "        n_queries = int(len(self.X_train)*((100-self.percent)/100))\n",
    "        \n",
    "        initial_idx = np.random.choice(range(len(self.X_train)), \n",
    "                                       size=(len(self.X_train)-n_queries), \n",
    "                                       replace=False)\n",
    "        \n",
    "        # seeding, getting initial data for training\n",
    "#         unique_label = list(set(self.y_train))\n",
    "#         initial_idx = [np.where(self.y_train == i)[0][0] for i in unique_label]\n",
    "\n",
    "        # initialising data for training\n",
    "        X_initial = self.X_train[initial_idx]\n",
    "        y_initial = self.y_train[initial_idx]\n",
    "\n",
    "        # generating the pool\n",
    "        X_pool = np.delete(self.X_train, initial_idx, axis=0)\n",
    "        y_pool = np.delete(self.y_train, initial_idx, axis=0)\n",
    "        \n",
    "#         print(len(X_train), len(X_initial), len(X_pool), len(X_test))\n",
    "\n",
    "        # initializing the active learner\n",
    "        learner = ActiveLearner(\n",
    "            estimator = self.model,\n",
    "            query_strategy = self.intensity_query,\n",
    "            X_training = X_initial, y_training = y_initial            \n",
    "        )\n",
    "        \n",
    "        # Calculating initial accuracy with initial data\n",
    "        accuracy_scores = [learner.score(self.X_test, self.y_test)]\n",
    "        \n",
    "        # pool-based sampling\n",
    "        \n",
    "#         print(\"It is calculated minimum\", n_queries, \"queries are required\")\n",
    "#         print(\"How you want to proceed?\\n 1. Manual\\n 2. Automatic\")\n",
    "#         decision_number = np.array([int(input())], dtype=int)\n",
    "        decision_number = 2\n",
    "        \n",
    "        for counter in range(n_queries):\n",
    "            \n",
    "#             display.clear_output(wait=True)\n",
    "            query_idx, query_instance = learner.query(X_pool)\n",
    "            # Accuracy plot\n",
    "#             with plt.style.context('seaborn-white'):\n",
    "#                 plt.figure(figsize=(10, 5))\n",
    "#                 plt.title('Accuracy of your model')\n",
    "#                 plt.plot(range(counter+1), accuracy_scores, label=\"Accuracy\")\n",
    "#                 plt.scatter(range(counter+1), accuracy_scores)\n",
    "#                 plt.xlabel('Number of queries')\n",
    "#                 plt.ylabel('Accuracy')\n",
    "#                 plt.grid()\n",
    "#                 plt.legend()\n",
    "#                 display.display(plt.gcf())\n",
    "#                 plt.close('all')\n",
    "            \n",
    "            if decision_number == 1:\n",
    "                print(\"What label is this?\")\n",
    "                y_new = np.array([int(input())], dtype=int)\n",
    "            else:\n",
    "                y_new = y_pool[query_idx].reshape(1, )\n",
    "            \n",
    "            learner.teach(query_instance.reshape(1, -1), y_new)\n",
    "            \n",
    "            # remove queried instance from pool\n",
    "            X_pool = np.delete(X_pool, query_idx, axis=0)\n",
    "            y_pool = np.delete(y_pool, query_idx, axis=0)\n",
    "#             print(len(X_pool), len(y_pool))\n",
    "            \n",
    "\n",
    "            accuracy_scores.append(learner.score(self.X_test, self.y_test))\n",
    "        \n",
    "#         print(\"By just labelling \", n_queries, \" of total data, accuracy of \", round(accuracy_scores[-1]-accuracy_scores[0], 3), \" % is achieved on the unseen data\" )\n",
    "        prediction = learner.predict(self.X_test)\n",
    "        return prediction"
   ]
  },
  {
   "cell_type": "markdown",
   "id": "48e8bb50",
   "metadata": {},
   "source": [
    "## Function to Run the model"
   ]
  },
  {
   "cell_type": "code",
   "execution_count": null,
   "id": "8e21074b",
   "metadata": {},
   "outputs": [],
   "source": [
    "def runmodel(features, label, model, iterations, al=True):\n",
    "    \n",
    "    acc_list = []\n",
    "    pc_list = []\n",
    "    rmse_list =[]\n",
    "    \n",
    "    for i in range(iterations):\n",
    "\n",
    "        X_train, X_test, y_train, y_test = train_test_split(features, label)\n",
    "        \n",
    "        if al:\n",
    "            mit = Active_learner(X_train, X_test, y_train, y_test,\n",
    "                                 model, 95)\n",
    "        else:\n",
    "            mit = Supervised_learner(X_train, X_test, y_train, y_test,\n",
    "                                     model)\n",
    "            \n",
    "        mit_predict = mit.learn()  \n",
    "\n",
    "        mit_metrics = Metric(y_test, mit_predict)\n",
    "        pc_list.append(mit_metrics.pearsoncorrelation())\n",
    "        rmse_list.append(mit_metrics.rmse())\n",
    "        acc_list.append(mit_metrics.accuracy())\n",
    "        \n",
    "        if i%10 ==0:\n",
    "            print(\"After\", i, \"iteration\")\n",
    "            print(\"Average pearson correlation is\", np.mean(pc_list))\n",
    "            print(\"Average rmse is\", np.mean(rmse_list))\n",
    "            print(\"Average accuracy is\", np.mean(acc_list))\n",
    "\n",
    "\n",
    "    return pc_list, rmse_list, acc_list"
   ]
  },
  {
   "cell_type": "markdown",
   "id": "d9049b65",
   "metadata": {},
   "source": [
    "## Data extraction"
   ]
  },
  {
   "cell_type": "code",
   "execution_count": 4,
   "id": "0f4ec5dc",
   "metadata": {},
   "outputs": [
    {
     "data": {
      "text/plain": [
       "2268                                                log n\n",
       "2269                                     ( n(n-1) ) / 2  \n",
       "2270                                                 2n-1\n",
       "2271    it takes at most h steps, where h is the heigh...\n",
       "2272    it depends on the install search tree then fro...\n",
       "Name: answer, dtype: object"
      ]
     },
     "execution_count": 4,
     "metadata": {},
     "output_type": "execute_result"
    }
   ],
   "source": [
    "dataset = Readdataset()\n",
    "data = dataset.mohlerdataset()\n",
    "data['answer'].tail()"
   ]
  },
  {
   "cell_type": "code",
   "execution_count": 5,
   "id": "bdf913b4",
   "metadata": {},
   "outputs": [],
   "source": [
    "# dataset = Readdataset()\n",
    "# data = dataset.amrdataset()\n",
    "# data['answer'].tail()"
   ]
  },
  {
   "cell_type": "markdown",
   "id": "1ee587c4",
   "metadata": {},
   "source": [
    "## Feature extraction"
   ]
  },
  {
   "cell_type": "code",
   "execution_count": 6,
   "id": "d4336369",
   "metadata": {},
   "outputs": [
    {
     "name": "stdout",
     "output_type": "stream",
     "text": [
      "CPU times: user 11.3 s, sys: 5.86 s, total: 17.1 s\n",
      "Wall time: 39.3 s\n",
      "CPU times: user 1.46 s, sys: 212 ms, total: 1.67 s\n",
      "Wall time: 1.84 s\n"
     ]
    }
   ],
   "source": [
    "# Object creation\n",
    "%time process = Processing()\n",
    "%time pre_process = PreProcess()"
   ]
  },
  {
   "cell_type": "code",
   "execution_count": 7,
   "id": "9a35f2c9",
   "metadata": {},
   "outputs": [],
   "source": [
    "# Features holder\n",
    "sentence_sim_score = np.zeros((len(data), 1))\n",
    "word_count_score = np.zeros((len(data), 1))\n",
    "word_count_score_demoted = np.zeros((len(data), 1))\n",
    "word_embedding_score = np.zeros((len(data), 1))\n",
    "word_embedding_score2 = np.zeros((len(data), 1))\n",
    "word_embedding_score_demoted = np.zeros((len(data), 1))\n",
    "word_embedding_score_demoted2 = np.zeros((len(data), 1))\n",
    "length_ratio_score = np.zeros((len(data), 1))\n",
    "length_ratio_score_demoted = np.zeros((len(data), 1))\n",
    "twograms_score = np.zeros((len(data), 1))\n",
    "threegrams_score = np.zeros((len(data), 1))\n",
    "fourgrams_score = np.zeros((len(data), 1))\n",
    "# elmo_score = np.zeros((len(data), 1))\n",
    "chunck_score = np.zeros((len(data), 1))"
   ]
  },
  {
   "cell_type": "code",
   "execution_count": 8,
   "id": "c0e74cdb",
   "metadata": {
    "scrolled": true
   },
   "outputs": [],
   "source": [
    "for count in range(len(data['answer'])):\n",
    "    \n",
    "    # Sentence embedding\n",
    "    refans_embed = process.sentence_embedding(data['refanswer'][count])\n",
    "    answer_embed = process.sentence_embedding(data['answer'][count])\n",
    "    sentence_sim_score[count,:] = process.cosinesimilarity(refans_embed, answer_embed)\n",
    "    \n",
    "#     refans_vec = process.elmo_vectors([data['refanswer'][count]])\n",
    "#     ans_vec = process.elmo_vectors([data['answer'][count]])    \n",
    "#     elmo_score[count:] = process.cosinesimilarity(sum(refans_vec), sum(ans_vec))\n",
    "    \n",
    "    # Initial preprocessing for refanswer, question and solution\n",
    "    refans_word_count = process.intialpreprocessing(data['refanswer'][count])\n",
    "    ans_word_count = process.intialpreprocessing(data['answer'][count])\n",
    "    qns_word_count = process.intialpreprocessing(data['question'][count])\n",
    "    \n",
    "    word_embedding_score[count,:] = process.word_embedding(pre_process.lemmantization(refans_word_count), \n",
    "                                                          pre_process.lemmantization(ans_word_count))\n",
    "    \n",
    "    word_embedding_score2[count,:] = process.word_embedding2(pre_process.lemmantization(refans_word_count), \n",
    "                                                          pre_process.lemmantization(ans_word_count))\n",
    "    \n",
    "    word_count_score[count,:] = process.word_count(pre_process.lemmantization(refans_word_count), \n",
    "                                                          pre_process.lemmantization(ans_word_count))\n",
    "    \n",
    "    twograms_score[count,:] = process.ngrams(pre_process.lemmantization(refans_word_count), \n",
    "                                              pre_process.lemmantization(ans_word_count), 2)\n",
    "    \n",
    "    threegrams_score[count,:] = process.ngrams(pre_process.lemmantization(refans_word_count), \n",
    "                                              pre_process.lemmantization(ans_word_count), 3)\n",
    "    \n",
    "    fourgrams_score[count,:] = process.ngrams(pre_process.lemmantization(refans_word_count), \n",
    "                                              pre_process.lemmantization(ans_word_count), 4)\n",
    "    \n",
    "        \n",
    "    refans_demoted = pre_process.question_demoting(qns_word_count, refans_word_count)\n",
    "    ans_demoted = pre_process.question_demoting(qns_word_count, ans_word_count)\n",
    "    \n",
    "    refans_lemmma = pre_process.lemmantization(refans_demoted) \n",
    "    ans_lemma = pre_process.lemmantization(ans_demoted)\n",
    "    \n",
    "    word_count_score_demoted[count,:] = process.word_count(refans_lemmma, ans_lemma)\n",
    "    word_embedding_score_demoted[count,:] = process.word_embedding(refans_lemmma, ans_lemma)\n",
    "    word_embedding_score_demoted2[count,:] = process.word_embedding2(refans_lemmma, ans_lemma)\n",
    "    \n",
    "    refans_token = pre_process.tokenization(data['refanswer'][count])\n",
    "    ans_token = pre_process.tokenization(data['answer'][count])\n",
    "    \n",
    "    length_ratio_score[count,:] = process.lengthratio(refans_token, ans_token)\n",
    "    length_ratio_score_demoted[count,:] = process.lengthratio(pre_process.tokenization(refans_lemmma),\n",
    "                                                             pre_process.tokenization(ans_lemma))\n",
    "    \n",
    "    try:\n",
    "        chunck_score[count,:] = process.word_count(process.chunking(data['refanswer'][count]), \n",
    "                                                   process.chunking(data['answer'][count]))\n",
    "        \n",
    "    except:\n",
    "        chunck_score[count,:] = 0\n",
    "    \n",
    "\n",
    "    "
   ]
  },
  {
   "cell_type": "markdown",
   "id": "f85b4649",
   "metadata": {},
   "source": [
    "## Sent+word+chuncking"
   ]
  },
  {
   "cell_type": "code",
   "execution_count": 10,
   "id": "2531bd02",
   "metadata": {
    "scrolled": true
   },
   "outputs": [],
   "source": [
    "features = np.hstack((sentence_sim_score, word_embedding_score_demoted, \n",
    "                      chunck_score))\n",
    "label = data['score_avg'].to_numpy().astype(int)"
   ]
  },
  {
   "cell_type": "code",
   "execution_count": 11,
   "id": "d75eb4ff",
   "metadata": {},
   "outputs": [
    {
     "name": "stdout",
     "output_type": "stream",
     "text": [
      "After 0 iteration\n",
      "Average pearson correlation is 0.41695379348800893\n",
      "Average rmse is 1.3499983727126819\n",
      "Average accuracy is 0.4991212653778559\n"
     ]
    }
   ],
   "source": [
    "# AL with random forest\n",
    "al_pc1, al_rmse1, al_acc1 = runmodel(features, label, RandomForestClassifier(),\n",
    "                                     1, al=True)"
   ]
  },
  {
   "cell_type": "code",
   "execution_count": 12,
   "id": "06feb980",
   "metadata": {},
   "outputs": [
    {
     "name": "stdout",
     "output_type": "stream",
     "text": [
      "After 0 iteration\n",
      "Average pearson correlation is 0.3922100139592948\n",
      "Average rmse is 1.3415097860810192\n",
      "Average accuracy is 0.492091388400703\n"
     ]
    }
   ],
   "source": [
    "sl_pc1, sl_rmse1, sl_acc1 = runmodel(features, label, RandomForestClassifier(),\n",
    "                                     1, al=False)"
   ]
  },
  {
   "cell_type": "code",
   "execution_count": 13,
   "id": "be31f623",
   "metadata": {},
   "outputs": [
    {
     "name": "stdout",
     "output_type": "stream",
     "text": [
      "After 0 iteration\n",
      "Average pearson correlation is 0.3699880936518697\n",
      "Average rmse is 1.3157154728982636\n",
      "Average accuracy is 0.45166959578207383\n",
      "After 10 iteration\n",
      "Average pearson correlation is 0.3697868999441583\n",
      "Average rmse is 1.3310174409195046\n",
      "Average accuracy is 0.4673270490493689\n",
      "After 20 iteration\n",
      "Average pearson correlation is 0.37956594499847407\n",
      "Average rmse is 1.3281156418708373\n",
      "Average accuracy is 0.4679052640388317\n",
      "After 30 iteration\n",
      "Average pearson correlation is 0.3862977090348979\n",
      "Average rmse is 1.3245268205318201\n",
      "Average accuracy is 0.4699245989001644\n",
      "After 40 iteration\n",
      "Average pearson correlation is 0.3904109083536463\n",
      "Average rmse is 1.3203890336204902\n",
      "Average accuracy is 0.4710874876762827\n",
      "After 50 iteration\n",
      "Average pearson correlation is 0.3857494209295479\n",
      "Average rmse is 1.325932761711881\n",
      "Average accuracy is 0.4705193149315965\n",
      "After 60 iteration\n",
      "Average pearson correlation is 0.3894127656712075\n",
      "Average rmse is 1.3207456439905851\n",
      "Average accuracy is 0.4701950502751448\n",
      "After 70 iteration\n",
      "Average pearson correlation is 0.38864337543335087\n",
      "Average rmse is 1.3204677231539328\n",
      "Average accuracy is 0.4703086710067082\n",
      "After 80 iteration\n",
      "Average pearson correlation is 0.389836493309867\n",
      "Average rmse is 1.32036510203847\n",
      "Average accuracy is 0.4698952027598776\n",
      "After 90 iteration\n",
      "Average pearson correlation is 0.39054274322357124\n",
      "Average rmse is 1.3209973210863084\n",
      "Average accuracy is 0.469939550783136\n"
     ]
    }
   ],
   "source": [
    "al_pc100, al_rmse100, al_acc100 = runmodel(features, label, RandomForestClassifier(),\n",
    "                                            100, al=True)"
   ]
  },
  {
   "cell_type": "code",
   "execution_count": 14,
   "id": "c796bb9c",
   "metadata": {},
   "outputs": [
    {
     "name": "stdout",
     "output_type": "stream",
     "text": [
      "After 0 iteration\n",
      "Average pearson correlation is 0.40187899393801046\n",
      "Average rmse is 1.3616644420429276\n",
      "Average accuracy is 0.46045694200351495\n",
      "After 10 iteration\n",
      "Average pearson correlation is 0.39392523611782193\n",
      "Average rmse is 1.3263450125744365\n",
      "Average accuracy is 0.4754753155456143\n",
      "After 20 iteration\n",
      "Average pearson correlation is 0.3892638935609402\n",
      "Average rmse is 1.3300355721833899\n",
      "Average accuracy is 0.47426562892292246\n",
      "After 30 iteration\n",
      "Average pearson correlation is 0.39305074696696557\n",
      "Average rmse is 1.322732920843992\n",
      "Average accuracy is 0.47593400986450474\n",
      "After 40 iteration\n",
      "Average pearson correlation is 0.397661121078334\n",
      "Average rmse is 1.323856459807755\n",
      "Average accuracy is 0.47665995113378196\n",
      "After 50 iteration\n",
      "Average pearson correlation is 0.3923122921835004\n",
      "Average rmse is 1.3248390790183433\n",
      "Average accuracy is 0.47406871360143354\n",
      "After 60 iteration\n",
      "Average pearson correlation is 0.39384177873532933\n",
      "Average rmse is 1.3250803289771045\n",
      "Average accuracy is 0.4736235558500677\n",
      "After 70 iteration\n",
      "Average pearson correlation is 0.39031503575926635\n",
      "Average rmse is 1.3272439719844642\n",
      "Average accuracy is 0.4731800292086439\n",
      "After 80 iteration\n",
      "Average pearson correlation is 0.3904286971492942\n",
      "Average rmse is 1.3258504890083116\n",
      "Average accuracy is 0.47401766148104757\n",
      "After 90 iteration\n",
      "Average pearson correlation is 0.3890394530566812\n",
      "Average rmse is 1.3268236227064227\n",
      "Average accuracy is 0.4729330423530776\n"
     ]
    }
   ],
   "source": [
    "sl_pc100, sl_rmse100, sl_acc100 = runmodel(features, label, RandomForestClassifier(),\n",
    "                                           100, al=False)"
   ]
  },
  {
   "cell_type": "markdown",
   "id": "a1dc44b3",
   "metadata": {},
   "source": [
    "## Demoted+Chuncking"
   ]
  },
  {
   "cell_type": "code",
   "execution_count": 16,
   "id": "bf511e95",
   "metadata": {
    "scrolled": true
   },
   "outputs": [],
   "source": [
    "# features = np.hstack((sentence_sim_score, word_count_score, \n",
    "#                       word_embedding_score, length_ratio_score,\n",
    "#                       word_embedding_score_demoted, word_count_score_demoted,\n",
    "#                       length_ratio_score_demoted, threegrams_score,\n",
    "#                       chunck_score))\n",
    "features = np.hstack((sentence_sim_score, word_count_score_demoted, \n",
    "                      word_embedding_score_demoted, length_ratio_score,\n",
    "                      chunck_score, threegrams_score))\n",
    "label = data['score_avg'].to_numpy().astype(int)"
   ]
  },
  {
   "cell_type": "code",
   "execution_count": 17,
   "id": "5158ea1e",
   "metadata": {},
   "outputs": [
    {
     "name": "stdout",
     "output_type": "stream",
     "text": [
      "After 0 iteration\n",
      "Average pearson correlation is 0.5592250520454038\n",
      "Average rmse is 1.1783041640373244\n",
      "Average accuracy is 0.5518453427065027\n"
     ]
    }
   ],
   "source": [
    "# AL with random forest\n",
    "al_pc1, al_rmse1, al_acc1 = runmodel(features, label, RandomForestClassifier(),\n",
    "                                     1, al=True)"
   ]
  },
  {
   "cell_type": "code",
   "execution_count": 18,
   "id": "a9ba6238",
   "metadata": {},
   "outputs": [
    {
     "name": "stdout",
     "output_type": "stream",
     "text": [
      "After 0 iteration\n",
      "Average pearson correlation is 0.4933138429820028\n",
      "Average rmse is 1.202662541218113\n",
      "Average accuracy is 0.5553602811950791\n"
     ]
    }
   ],
   "source": [
    "sl_pc1, sl_rmse1, sl_acc1 = runmodel(features, label, RandomForestClassifier(),\n",
    "                                     1, al=False)"
   ]
  },
  {
   "cell_type": "code",
   "execution_count": 19,
   "id": "ad0909ed",
   "metadata": {},
   "outputs": [
    {
     "name": "stdout",
     "output_type": "stream",
     "text": [
      "After 0 iteration\n",
      "Average pearson correlation is 0.5315266478243772\n",
      "Average rmse is 1.1225441853907834\n",
      "Average accuracy is 0.5342706502636204\n",
      "After 10 iteration\n",
      "Average pearson correlation is 0.5127680077512939\n",
      "Average rmse is 1.1674701722453515\n",
      "Average accuracy is 0.5363476593705064\n",
      "After 20 iteration\n",
      "Average pearson correlation is 0.5206094130637605\n",
      "Average rmse is 1.1690895783380586\n",
      "Average accuracy is 0.536279186542807\n",
      "After 30 iteration\n",
      "Average pearson correlation is 0.5204234095053838\n",
      "Average rmse is 1.1715258021024324\n",
      "Average accuracy is 0.5386359770962073\n",
      "After 40 iteration\n",
      "Average pearson correlation is 0.516477320447541\n",
      "Average rmse is 1.1766773352526643\n",
      "Average accuracy is 0.5379999142697929\n",
      "After 50 iteration\n",
      "Average pearson correlation is 0.5140370948227576\n",
      "Average rmse is 1.1799492692185387\n",
      "Average accuracy is 0.5358558186016058\n",
      "After 60 iteration\n",
      "Average pearson correlation is 0.5146957501250359\n",
      "Average rmse is 1.1772682184687817\n",
      "Average accuracy is 0.5357976317381659\n",
      "After 70 iteration\n",
      "Average pearson correlation is 0.5104677144348714\n",
      "Average rmse is 1.1807457678402022\n",
      "Average accuracy is 0.5353350330453724\n",
      "After 80 iteration\n",
      "Average pearson correlation is 0.5113988522229463\n",
      "Average rmse is 1.179498533255373\n",
      "Average accuracy is 0.5350734448566903\n",
      "After 90 iteration\n",
      "Average pearson correlation is 0.5131329797398417\n",
      "Average rmse is 1.1784880690309922\n",
      "Average accuracy is 0.5349852256706387\n"
     ]
    }
   ],
   "source": [
    "al_pc100, al_rmse100, al_acc100 = runmodel(features, label, RandomForestClassifier(),\n",
    "                                            100, al=True)"
   ]
  },
  {
   "cell_type": "code",
   "execution_count": 20,
   "id": "7fa6eb6c",
   "metadata": {},
   "outputs": [
    {
     "name": "stdout",
     "output_type": "stream",
     "text": [
      "After 0 iteration\n",
      "Average pearson correlation is 0.48985932219373807\n",
      "Average rmse is 1.2812011060583743\n",
      "Average accuracy is 0.523725834797891\n",
      "After 10 iteration\n",
      "Average pearson correlation is 0.5246446775776495\n",
      "Average rmse is 1.1704421620551821\n",
      "Average accuracy is 0.5413005272407733\n",
      "After 20 iteration\n",
      "Average pearson correlation is 0.5202765528562382\n",
      "Average rmse is 1.1752745076119175\n",
      "Average accuracy is 0.5378692777638295\n",
      "After 30 iteration\n",
      "Average pearson correlation is 0.5208582039292284\n",
      "Average rmse is 1.1707320653761648\n",
      "Average accuracy is 0.5377288961959295\n",
      "After 40 iteration\n",
      "Average pearson correlation is 0.5200270781419983\n",
      "Average rmse is 1.1770775637439763\n",
      "Average accuracy is 0.5368854215782931\n",
      "After 50 iteration\n",
      "Average pearson correlation is 0.5146106694067417\n",
      "Average rmse is 1.18008760251144\n",
      "Average accuracy is 0.5350287742513526\n",
      "After 60 iteration\n",
      "Average pearson correlation is 0.5169053414344682\n",
      "Average rmse is 1.177709232717409\n",
      "Average accuracy is 0.5361721743639978\n",
      "After 70 iteration\n",
      "Average pearson correlation is 0.5137531608276685\n",
      "Average rmse is 1.1798251603393275\n",
      "Average accuracy is 0.5352360206935814\n",
      "After 80 iteration\n",
      "Average pearson correlation is 0.5133177932752063\n",
      "Average rmse is 1.1789633955497114\n",
      "Average accuracy is 0.5360281195079085\n",
      "After 90 iteration\n",
      "Average pearson correlation is 0.5095159276788407\n",
      "Average rmse is 1.1816772055638565\n",
      "Average accuracy is 0.5345410301473571\n"
     ]
    }
   ],
   "source": [
    "sl_pc100, sl_rmse100, sl_acc100 = runmodel(features, label, RandomForestClassifier(),\n",
    "                                           100, al=False)"
   ]
  },
  {
   "cell_type": "markdown",
   "id": "a9e196d7",
   "metadata": {},
   "source": [
    "## Features with Scapy NLP"
   ]
  },
  {
   "cell_type": "code",
   "execution_count": 16,
   "id": "ed7918bc",
   "metadata": {},
   "outputs": [],
   "source": [
    "features = np.hstack((sentence_sim_score, word_count_score_demoted, \n",
    "                      word_embedding_score_demoted2, length_ratio_score,\n",
    "                      chunck_score, threegrams_score))\n",
    "label = data['score_avg'].to_numpy().astype(int)"
   ]
  },
  {
   "cell_type": "code",
   "execution_count": 17,
   "id": "8b17aa3f",
   "metadata": {},
   "outputs": [
    {
     "name": "stdout",
     "output_type": "stream",
     "text": [
      "After 0 iteration\n",
      "Average pearson correlation is 0.5557085660764389\n",
      "Average rmse is 1.1812834460724702\n",
      "Average accuracy is 0.5254833040421792\n"
     ]
    }
   ],
   "source": [
    "# AL with random forest\n",
    "al_pc1, al_rmse1, al_acc1 = runmodel(features, label, RandomForestClassifier(),\n",
    "                                     1, al=True)"
   ]
  },
  {
   "cell_type": "code",
   "execution_count": 18,
   "id": "e9f5b4b2",
   "metadata": {},
   "outputs": [
    {
     "name": "stdout",
     "output_type": "stream",
     "text": [
      "After 0 iteration\n",
      "Average pearson correlation is 0.5163622892016088\n",
      "Average rmse is 1.1879595124260105\n",
      "Average accuracy is 0.5430579964850615\n"
     ]
    }
   ],
   "source": [
    "sl_pc1, sl_rmse1, sl_acc1 = runmodel(features, label, RandomForestClassifier(),\n",
    "                                     1, al=False)"
   ]
  },
  {
   "cell_type": "code",
   "execution_count": 19,
   "id": "234c327d",
   "metadata": {},
   "outputs": [
    {
     "name": "stdout",
     "output_type": "stream",
     "text": [
      "After 0 iteration\n",
      "Average pearson correlation is 0.4761365237087402\n",
      "Average rmse is 1.1916522770443085\n",
      "Average accuracy is 0.5272407732864675\n",
      "After 10 iteration\n",
      "Average pearson correlation is 0.5059592736997495\n",
      "Average rmse is 1.1716783885222997\n",
      "Average accuracy is 0.5291580124620545\n",
      "After 20 iteration\n",
      "Average pearson correlation is 0.5128045708126338\n",
      "Average rmse is 1.1747198087358584\n",
      "Average accuracy is 0.5314252238681061\n",
      "After 30 iteration\n",
      "Average pearson correlation is 0.5160728981607459\n",
      "Average rmse is 1.1725339484981228\n",
      "Average accuracy is 0.5318328703441239\n",
      "After 40 iteration\n",
      "Average pearson correlation is 0.5152414375320644\n",
      "Average rmse is 1.1736924582644044\n",
      "Average accuracy is 0.5319130695700631\n",
      "After 50 iteration\n",
      "Average pearson correlation is 0.5156540629529524\n",
      "Average rmse is 1.1745215570724603\n",
      "Average accuracy is 0.5315482959440366\n",
      "After 60 iteration\n",
      "Average pearson correlation is 0.5141698503102916\n",
      "Average rmse is 1.1748012516298616\n",
      "Average accuracy is 0.5309285776023509\n",
      "After 70 iteration\n",
      "Average pearson correlation is 0.5131188686188001\n",
      "Average rmse is 1.175711562905245\n",
      "Average accuracy is 0.5318696007326914\n",
      "After 80 iteration\n",
      "Average pearson correlation is 0.5134646698194757\n",
      "Average rmse is 1.1759655003579415\n",
      "Average accuracy is 0.5319490550890668\n",
      "After 90 iteration\n",
      "Average pearson correlation is 0.5136503959685788\n",
      "Average rmse is 1.1769533814582434\n",
      "Average accuracy is 0.5317986056123138\n"
     ]
    }
   ],
   "source": [
    "al_pc100, al_rmse100, al_acc100 = runmodel(features, label, RandomForestClassifier(),\n",
    "                                            100, al=True)"
   ]
  },
  {
   "cell_type": "code",
   "execution_count": 20,
   "id": "8ebcbe91",
   "metadata": {},
   "outputs": [
    {
     "name": "stdout",
     "output_type": "stream",
     "text": [
      "After 0 iteration\n",
      "Average pearson correlation is 0.4941216475487671\n",
      "Average rmse is 1.2358158330780795\n",
      "Average accuracy is 0.5307557117750439\n",
      "After 10 iteration\n",
      "Average pearson correlation is 0.5138034621376302\n",
      "Average rmse is 1.1785146986533432\n",
      "Average accuracy is 0.5355488097140119\n",
      "After 20 iteration\n",
      "Average pearson correlation is 0.5181644357371582\n",
      "Average rmse is 1.1743780782184177\n",
      "Average accuracy is 0.5382040338103607\n",
      "After 30 iteration\n",
      "Average pearson correlation is 0.520800993791634\n",
      "Average rmse is 1.169755185403075\n",
      "Average accuracy is 0.5389194398775442\n",
      "After 40 iteration\n",
      "Average pearson correlation is 0.521789008223597\n",
      "Average rmse is 1.1739749344843626\n",
      "Average accuracy is 0.5396716533070427\n",
      "After 50 iteration\n",
      "Average pearson correlation is 0.5166783245059012\n",
      "Average rmse is 1.177387306235084\n",
      "Average accuracy is 0.5371308453082463\n",
      "After 60 iteration\n",
      "Average pearson correlation is 0.5191171423463758\n",
      "Average rmse is 1.1741234749941545\n",
      "Average accuracy is 0.5375839119536721\n",
      "After 70 iteration\n",
      "Average pearson correlation is 0.5173697232650183\n",
      "Average rmse is 1.1738123538532097\n",
      "Average accuracy is 0.5364984281789152\n",
      "After 80 iteration\n",
      "Average pearson correlation is 0.5179632802067661\n",
      "Average rmse is 1.172106874895303\n",
      "Average accuracy is 0.537026188461455\n",
      "After 90 iteration\n",
      "Average pearson correlation is 0.5149532075499429\n",
      "Average rmse is 1.1741885154233298\n",
      "Average accuracy is 0.5365302535777052\n"
     ]
    }
   ],
   "source": [
    "sl_pc100, sl_rmse100, sl_acc100 = runmodel(features, label, RandomForestClassifier(),\n",
    "                                           100, al=False)"
   ]
  },
  {
   "cell_type": "markdown",
   "id": "d35b12f9",
   "metadata": {},
   "source": [
    "# Checking with demoted"
   ]
  },
  {
   "cell_type": "code",
   "execution_count": 51,
   "id": "20b12082",
   "metadata": {},
   "outputs": [],
   "source": [
    "features = word_embedding_score_demoted\n",
    "label = data['score_avg'].to_numpy().astype(int)"
   ]
  },
  {
   "cell_type": "code",
   "execution_count": 52,
   "id": "a26bf74e",
   "metadata": {},
   "outputs": [
    {
     "name": "stdout",
     "output_type": "stream",
     "text": [
      "After 0 iteration\n",
      "Average pearson correlation is 0.21909240291425364\n",
      "Average rmse is 1.5167489049850296\n",
      "Average accuracy is 0.4024604569420035\n"
     ]
    }
   ],
   "source": [
    "# AL with random forest\n",
    "al_pc1, al_rmse1, al_acc1 = runmodel(features, label, RandomForestClassifier(),\n",
    "                                     1, al=True)"
   ]
  },
  {
   "cell_type": "code",
   "execution_count": 53,
   "id": "a37e252a",
   "metadata": {},
   "outputs": [
    {
     "name": "stdout",
     "output_type": "stream",
     "text": [
      "After 0 iteration\n",
      "Average pearson correlation is 0.22747490599668124\n",
      "Average rmse is 1.483358181239062\n",
      "Average accuracy is 0.3884007029876977\n"
     ]
    }
   ],
   "source": [
    "sl_pc1, sl_rmse1, sl_acc1 = runmodel(features, label, RandomForestClassifier(),\n",
    "                                     1, al=False)"
   ]
  },
  {
   "cell_type": "code",
   "execution_count": 54,
   "id": "9f671105",
   "metadata": {},
   "outputs": [
    {
     "name": "stdout",
     "output_type": "stream",
     "text": [
      "After 0 iteration\n",
      "Average pearson correlation is 0.17359539833175788\n",
      "Average rmse is 1.5853015546993454\n",
      "Average accuracy is 0.36379613356766255\n",
      "After 10 iteration\n",
      "Average pearson correlation is 0.2156770893352112\n",
      "Average rmse is 1.5288083139122295\n",
      "Average accuracy is 0.38776162326250196\n",
      "After 20 iteration\n",
      "Average pearson correlation is 0.2083687718614271\n",
      "Average rmse is 1.5388399484940798\n",
      "Average accuracy is 0.3843836304293247\n",
      "After 30 iteration\n",
      "Average pearson correlation is 0.21190199992784972\n",
      "Average rmse is 1.5343101390014124\n",
      "Average accuracy is 0.38154090367934695\n",
      "After 40 iteration\n",
      "Average pearson correlation is 0.20874722575460936\n",
      "Average rmse is 1.533495774248151\n",
      "Average accuracy is 0.38201380256333317\n",
      "After 50 iteration\n",
      "Average pearson correlation is 0.20796080307064024\n",
      "Average rmse is 1.534856860768715\n",
      "Average accuracy is 0.3818877287294531\n",
      "After 60 iteration\n",
      "Average pearson correlation is 0.2084592390206513\n",
      "Average rmse is 1.5333142465464924\n",
      "Average accuracy is 0.38151488086663404\n",
      "After 70 iteration\n",
      "Average pearson correlation is 0.20728697208742805\n",
      "Average rmse is 1.5329858452988037\n",
      "Average accuracy is 0.3811232951310676\n",
      "After 80 iteration\n",
      "Average pearson correlation is 0.21125369477821154\n",
      "Average rmse is 1.53009531054269\n",
      "Average accuracy is 0.38063312287096707\n",
      "After 90 iteration\n",
      "Average pearson correlation is 0.2099130759222233\n",
      "Average rmse is 1.5313410393191151\n",
      "Average accuracy is 0.3815060159524131\n"
     ]
    }
   ],
   "source": [
    "al_pc100, al_rmse100, al_acc100 = runmodel(features, label, RandomForestClassifier(),\n",
    "                                            100, al=True)"
   ]
  },
  {
   "cell_type": "code",
   "execution_count": 55,
   "id": "7eb13258",
   "metadata": {},
   "outputs": [
    {
     "name": "stdout",
     "output_type": "stream",
     "text": [
      "After 0 iteration\n",
      "Average pearson correlation is 0.15285836071594072\n",
      "Average rmse is 1.6095060317006717\n",
      "Average accuracy is 0.3532513181019332\n",
      "After 10 iteration\n",
      "Average pearson correlation is 0.20400676881336832\n",
      "Average rmse is 1.546790656788388\n",
      "Average accuracy is 0.376417958140278\n",
      "After 20 iteration\n",
      "Average pearson correlation is 0.21247487596830966\n",
      "Average rmse is 1.5347189750451822\n",
      "Average accuracy is 0.3826261611850364\n",
      "After 30 iteration\n",
      "Average pearson correlation is 0.20951450155029708\n",
      "Average rmse is 1.5397666229102283\n",
      "Average accuracy is 0.38154090367934695\n",
      "After 40 iteration\n",
      "Average pearson correlation is 0.20811325111182924\n",
      "Average rmse is 1.5379368339599684\n",
      "Average accuracy is 0.3799991426979296\n",
      "After 50 iteration\n",
      "Average pearson correlation is 0.2085785135973947\n",
      "Average rmse is 1.5401045086445342\n",
      "Average accuracy is 0.379509976222475\n",
      "After 60 iteration\n",
      "Average pearson correlation is 0.20811331313564221\n",
      "Average rmse is 1.5374716663745391\n",
      "Average accuracy is 0.37995908842087067\n",
      "After 70 iteration\n",
      "Average pearson correlation is 0.20788285416935198\n",
      "Average rmse is 1.5360528148871229\n",
      "Average accuracy is 0.3802321839649497\n",
      "After 80 iteration\n",
      "Average pearson correlation is 0.20842183962792316\n",
      "Average rmse is 1.5357186159782035\n",
      "Average accuracy is 0.3796784482197488\n",
      "After 90 iteration\n",
      "Average pearson correlation is 0.20722885935705498\n",
      "Average rmse is 1.5356021333775518\n",
      "Average accuracy is 0.3804244964174666\n"
     ]
    }
   ],
   "source": [
    "sl_pc100, sl_rmse100, sl_acc100 = runmodel(features, label, RandomForestClassifier(),\n",
    "                                           100, al=False)"
   ]
  },
  {
   "cell_type": "code",
   "execution_count": 56,
   "id": "2645485a",
   "metadata": {},
   "outputs": [],
   "source": [
    "features = word_embedding_score_demoted2\n",
    "label = data['score_avg'].to_numpy().astype(int)"
   ]
  },
  {
   "cell_type": "code",
   "execution_count": 57,
   "id": "7fa64494",
   "metadata": {},
   "outputs": [
    {
     "name": "stdout",
     "output_type": "stream",
     "text": [
      "After 0 iteration\n",
      "Average pearson correlation is 0.22492501953156263\n",
      "Average rmse is 1.5736181764335684\n",
      "Average accuracy is 0.38488576449912126\n"
     ]
    }
   ],
   "source": [
    "# AL with random forest\n",
    "al_pc1, al_rmse1, al_acc1 = runmodel(features, label, RandomForestClassifier(),\n",
    "                                     1, al=True)"
   ]
  },
  {
   "cell_type": "code",
   "execution_count": 58,
   "id": "d178acc3",
   "metadata": {},
   "outputs": [
    {
     "name": "stdout",
     "output_type": "stream",
     "text": [
      "After 0 iteration\n",
      "Average pearson correlation is 0.16639663524488324\n",
      "Average rmse is 1.5562109813997502\n",
      "Average accuracy is 0.3655536028119508\n"
     ]
    }
   ],
   "source": [
    "sl_pc1, sl_rmse1, sl_acc1 = runmodel(features, label, RandomForestClassifier(),\n",
    "                                     1, al=False)"
   ]
  },
  {
   "cell_type": "code",
   "execution_count": 59,
   "id": "aff6b398",
   "metadata": {},
   "outputs": [
    {
     "name": "stdout",
     "output_type": "stream",
     "text": [
      "After 0 iteration\n",
      "Average pearson correlation is 0.23915920676262403\n",
      "Average rmse is 1.486317207082761\n",
      "Average accuracy is 0.3936731107205624\n",
      "After 10 iteration\n",
      "Average pearson correlation is 0.22713925408250868\n",
      "Average rmse is 1.5094918305280365\n",
      "Average accuracy is 0.396868509346541\n",
      "After 20 iteration\n",
      "Average pearson correlation is 0.22739407679290696\n",
      "Average rmse is 1.5155846028252244\n",
      "Average accuracy is 0.393840488743828\n",
      "After 30 iteration\n",
      "Average pearson correlation is 0.23024686968611724\n",
      "Average rmse is 1.5164646198796665\n",
      "Average accuracy is 0.3937298032768297\n",
      "After 40 iteration\n",
      "Average pearson correlation is 0.2253849803936366\n",
      "Average rmse is 1.520410858915466\n",
      "Average accuracy is 0.3922156972009087\n",
      "After 50 iteration\n",
      "Average pearson correlation is 0.22882111301265276\n",
      "Average rmse is 1.5196591410251463\n",
      "Average accuracy is 0.3903993935008098\n",
      "After 60 iteration\n",
      "Average pearson correlation is 0.22926360103526577\n",
      "Average rmse is 1.516970057223776\n",
      "Average accuracy is 0.3913106110806995\n",
      "After 70 iteration\n",
      "Average pearson correlation is 0.22941381528128216\n",
      "Average rmse is 1.518392178905972\n",
      "Average accuracy is 0.3911730488378425\n",
      "After 80 iteration\n",
      "Average pearson correlation is 0.2293444587386266\n",
      "Average rmse is 1.5194012297421642\n",
      "Average accuracy is 0.3909609668250559\n",
      "After 90 iteration\n",
      "Average pearson correlation is 0.23138639471544656\n",
      "Average rmse is 1.5165430141738916\n",
      "Average accuracy is 0.3916066358948608\n"
     ]
    }
   ],
   "source": [
    "al_pc100, al_rmse100, al_acc100 = runmodel(features, label, RandomForestClassifier(),\n",
    "                                            100, al=True)"
   ]
  },
  {
   "cell_type": "code",
   "execution_count": 60,
   "id": "57afdb53",
   "metadata": {},
   "outputs": [
    {
     "name": "stdout",
     "output_type": "stream",
     "text": [
      "After 0 iteration\n",
      "Average pearson correlation is 0.183728413381501\n",
      "Average rmse is 1.5825276215948714\n",
      "Average accuracy is 0.36379613356766255\n",
      "After 10 iteration\n",
      "Average pearson correlation is 0.22983511822224936\n",
      "Average rmse is 1.5260312972220509\n",
      "Average accuracy is 0.38328806518613195\n",
      "After 20 iteration\n",
      "Average pearson correlation is 0.22751107551633737\n",
      "Average rmse is 1.5322275843738888\n",
      "Average accuracy is 0.38689430077830783\n",
      "After 30 iteration\n",
      "Average pearson correlation is 0.22553624689807011\n",
      "Average rmse is 1.522927527493469\n",
      "Average accuracy is 0.3864731560746074\n",
      "After 40 iteration\n",
      "Average pearson correlation is 0.2220198537555857\n",
      "Average rmse is 1.5252982264769315\n",
      "Average accuracy is 0.3870290196750825\n",
      "After 50 iteration\n",
      "Average pearson correlation is 0.22040783958531712\n",
      "Average rmse is 1.5258832766620463\n",
      "Average accuracy is 0.3862986319308039\n",
      "After 60 iteration\n",
      "Average pearson correlation is 0.2229939517865122\n",
      "Average rmse is 1.5236004165569443\n",
      "Average accuracy is 0.3874787519087268\n",
      "After 70 iteration\n",
      "Average pearson correlation is 0.22326165152246416\n",
      "Average rmse is 1.522584167079991\n",
      "Average accuracy is 0.38854922151538396\n",
      "After 80 iteration\n",
      "Average pearson correlation is 0.2270249996029517\n",
      "Average rmse is 1.519246413109514\n",
      "Average accuracy is 0.38842240013886176\n",
      "After 90 iteration\n",
      "Average pearson correlation is 0.2281466446330057\n",
      "Average rmse is 1.5173584904397406\n",
      "Average accuracy is 0.38838139013885936\n"
     ]
    }
   ],
   "source": [
    "sl_pc100, sl_rmse100, sl_acc100 = runmodel(features, label, RandomForestClassifier(),\n",
    "                                           100, al=False)"
   ]
  },
  {
   "cell_type": "markdown",
   "id": "248e6b93",
   "metadata": {},
   "source": [
    "# trails with demoted"
   ]
  },
  {
   "cell_type": "code",
   "execution_count": 61,
   "id": "0f62f80f",
   "metadata": {},
   "outputs": [],
   "source": [
    "features = np.hstack((sentence_sim_score, word_embedding_score_demoted, word_count_score_demoted,\n",
    "                      length_ratio_score_demoted, chunck_score))\n",
    "label = data['score_avg'].to_numpy().astype(int)"
   ]
  },
  {
   "cell_type": "code",
   "execution_count": 62,
   "id": "d213c827",
   "metadata": {},
   "outputs": [
    {
     "name": "stdout",
     "output_type": "stream",
     "text": [
      "After 0 iteration\n",
      "Average pearson correlation is 0.5459435994934819\n",
      "Average rmse is 1.1473205585065929\n",
      "Average accuracy is 0.5254833040421792\n"
     ]
    }
   ],
   "source": [
    "# AL with random forest\n",
    "al_pc1, al_rmse1, al_acc1 = runmodel(features, label, RandomForestClassifier(),\n",
    "                                     1, al=True)"
   ]
  },
  {
   "cell_type": "code",
   "execution_count": 63,
   "id": "97e001fc",
   "metadata": {},
   "outputs": [
    {
     "name": "stdout",
     "output_type": "stream",
     "text": [
      "After 0 iteration\n",
      "Average pearson correlation is 0.5498623372811255\n",
      "Average rmse is 1.1201933049352655\n",
      "Average accuracy is 0.5360281195079086\n"
     ]
    }
   ],
   "source": [
    "sl_pc1, sl_rmse1, sl_acc1 = runmodel(features, label, RandomForestClassifier(),\n",
    "                                     1, al=False)"
   ]
  },
  {
   "cell_type": "code",
   "execution_count": 64,
   "id": "17568c9d",
   "metadata": {},
   "outputs": [
    {
     "name": "stdout",
     "output_type": "stream",
     "text": [
      "After 0 iteration\n",
      "Average pearson correlation is 0.5954294189085204\n",
      "Average rmse is 1.0770003255478748\n",
      "Average accuracy is 0.5448154657293497\n",
      "After 10 iteration\n",
      "Average pearson correlation is 0.5299078691283655\n",
      "Average rmse is 1.152672021453344\n",
      "Average accuracy is 0.5315545614315386\n",
      "After 20 iteration\n",
      "Average pearson correlation is 0.5305993087768108\n",
      "Average rmse is 1.159755609193736\n",
      "Average accuracy is 0.5294166875889195\n",
      "After 30 iteration\n",
      "Average pearson correlation is 0.5303795939570162\n",
      "Average rmse is 1.1598533452577293\n",
      "Average accuracy is 0.5314360224502522\n",
      "After 40 iteration\n",
      "Average pearson correlation is 0.5291372825018708\n",
      "Average rmse is 1.1605416328763183\n",
      "Average accuracy is 0.5289125123237172\n",
      "After 50 iteration\n",
      "Average pearson correlation is 0.527009851373525\n",
      "Average rmse is 1.1619913806759028\n",
      "Average accuracy is 0.5285847203556291\n",
      "After 60 iteration\n",
      "Average pearson correlation is 0.5272790955174899\n",
      "Average rmse is 1.1615495745801963\n",
      "Average accuracy is 0.53000662652338\n",
      "After 70 iteration\n",
      "Average pearson correlation is 0.5296797937671901\n",
      "Average rmse is 1.1613981932368875\n",
      "Average accuracy is 0.5309042303027303\n",
      "After 80 iteration\n",
      "Average pearson correlation is 0.5276891457695009\n",
      "Average rmse is 1.1643169603645485\n",
      "Average accuracy is 0.5287595738679511\n",
      "After 90 iteration\n",
      "Average pearson correlation is 0.52675138260028\n",
      "Average rmse is 1.1643368974404955\n",
      "Average accuracy is 0.5291720581703007\n"
     ]
    }
   ],
   "source": [
    "al_pc100, al_rmse100, al_acc100 = runmodel(features, label, RandomForestClassifier(),\n",
    "                                            100, al=True)"
   ]
  },
  {
   "cell_type": "code",
   "execution_count": 65,
   "id": "f7afd486",
   "metadata": {},
   "outputs": [
    {
     "name": "stdout",
     "output_type": "stream",
     "text": [
      "After 0 iteration\n",
      "Average pearson correlation is 0.5314261099449936\n",
      "Average rmse is 1.1572344464919921\n",
      "Average accuracy is 0.5254833040421792\n",
      "After 10 iteration\n",
      "Average pearson correlation is 0.5282532697413935\n",
      "Average rmse is 1.1479863619040442\n",
      "Average accuracy is 0.539702827927784\n",
      "After 20 iteration\n",
      "Average pearson correlation is 0.5128713585426341\n",
      "Average rmse is 1.1645790315011426\n",
      "Average accuracy is 0.5310067788099422\n",
      "After 30 iteration\n",
      "Average pearson correlation is 0.5156715120201758\n",
      "Average rmse is 1.1627673039316855\n",
      "Average accuracy is 0.5334202619196099\n",
      "After 40 iteration\n",
      "Average pearson correlation is 0.5228399273876321\n",
      "Average rmse is 1.1607706829855595\n",
      "Average accuracy is 0.5348278966093702\n",
      "After 50 iteration\n",
      "Average pearson correlation is 0.5253421034541584\n",
      "Average rmse is 1.1581915701359102\n",
      "Average accuracy is 0.535304455701437\n",
      "After 60 iteration\n",
      "Average pearson correlation is 0.5244062405599209\n",
      "Average rmse is 1.1581666396195136\n",
      "Average accuracy is 0.5342994612348382\n",
      "After 70 iteration\n",
      "Average pearson correlation is 0.526934078632238\n",
      "Average rmse is 1.1569247426852196\n",
      "Average accuracy is 0.5357805886284314\n",
      "After 80 iteration\n",
      "Average pearson correlation is 0.5282814952827803\n",
      "Average rmse is 1.1580999996809036\n",
      "Average accuracy is 0.5356158736357916\n",
      "After 90 iteration\n",
      "Average pearson correlation is 0.5279398834782527\n",
      "Average rmse is 1.1579694971772554\n",
      "Average accuracy is 0.5361053709032619\n"
     ]
    }
   ],
   "source": [
    "sl_pc100, sl_rmse100, sl_acc100 = runmodel(features, label, RandomForestClassifier(),\n",
    "                                           100, al=False)"
   ]
  },
  {
   "cell_type": "markdown",
   "id": "2ccdfc97",
   "metadata": {},
   "source": [
    "# Only fasttext"
   ]
  },
  {
   "cell_type": "code",
   "execution_count": 25,
   "id": "e81b5b44",
   "metadata": {},
   "outputs": [],
   "source": [
    "features = word_embedding_score\n",
    "label = data['score_avg'].to_numpy().astype(int)"
   ]
  },
  {
   "cell_type": "code",
   "execution_count": 26,
   "id": "5765b34c",
   "metadata": {},
   "outputs": [
    {
     "name": "stdout",
     "output_type": "stream",
     "text": [
      "After 0 iteration\n",
      "Average pearson correlation is 0.18060880724368772\n",
      "Average rmse is 1.630659672221057\n",
      "Average accuracy is 0.3374340949033392\n"
     ]
    }
   ],
   "source": [
    "al_pc1, al_rmse1, al_acc1 = runmodel(features, label, RandomForestClassifier(),\n",
    "                                     1, al=True)"
   ]
  },
  {
   "cell_type": "code",
   "execution_count": 27,
   "id": "cfe8575a",
   "metadata": {},
   "outputs": [
    {
     "name": "stdout",
     "output_type": "stream",
     "text": [
      "After 0 iteration\n",
      "Average pearson correlation is 0.26035520215321206\n",
      "Average rmse is 1.539177878382004\n",
      "Average accuracy is 0.39015817223198596\n"
     ]
    }
   ],
   "source": [
    "sl_pc1, sl_rmse1, sl_acc1 = runmodel(features, label, RandomForestClassifier(),\n",
    "                                     1, al=False)"
   ]
  },
  {
   "cell_type": "code",
   "execution_count": 28,
   "id": "84c8f9c0",
   "metadata": {},
   "outputs": [
    {
     "name": "stdout",
     "output_type": "stream",
     "text": [
      "After 0 iteration\n",
      "Average pearson correlation is 0.21494545280935878\n",
      "Average rmse is 1.5397486842159716\n",
      "Average accuracy is 0.37609841827768015\n",
      "After 10 iteration\n",
      "Average pearson correlation is 0.1867468063505161\n",
      "Average rmse is 1.5441451246317859\n",
      "Average accuracy is 0.37418117910209303\n",
      "After 20 iteration\n",
      "Average pearson correlation is 0.18170966650510728\n",
      "Average rmse is 1.5523150512140131\n",
      "Average accuracy is 0.3692359193237928\n",
      "After 30 iteration\n",
      "Average pearson correlation is 0.18943534520343883\n",
      "Average rmse is 1.549816396145449\n",
      "Average accuracy is 0.37105278076988496\n",
      "After 40 iteration\n",
      "Average pearson correlation is 0.19273329535018544\n",
      "Average rmse is 1.5508733398544028\n",
      "Average accuracy is 0.37142612199408465\n",
      "After 50 iteration\n",
      "Average pearson correlation is 0.1864384945854396\n",
      "Average rmse is 1.5567050966951348\n",
      "Average accuracy is 0.3703435680071677\n",
      "After 60 iteration\n",
      "Average pearson correlation is 0.1848442908079482\n",
      "Average rmse is 1.5589274569491358\n",
      "Average accuracy is 0.3695583278112305\n",
      "After 70 iteration\n",
      "Average pearson correlation is 0.1824858353676747\n",
      "Average rmse is 1.5606807659810549\n",
      "Average accuracy is 0.36844971410183425\n",
      "After 80 iteration\n",
      "Average pearson correlation is 0.18410607815133131\n",
      "Average rmse is 1.5585297510157308\n",
      "Average accuracy is 0.369393998567988\n",
      "After 90 iteration\n",
      "Average pearson correlation is 0.18294168787062406\n",
      "Average rmse is 1.561846905527109\n",
      "Average accuracy is 0.36947411112613215\n"
     ]
    }
   ],
   "source": [
    "al_pc100, al_rmse100, al_acc100 = runmodel(features, label, RandomForestClassifier(),\n",
    "                                     100, al=True)"
   ]
  },
  {
   "cell_type": "code",
   "execution_count": 29,
   "id": "7a1dc659",
   "metadata": {},
   "outputs": [
    {
     "name": "stdout",
     "output_type": "stream",
     "text": [
      "After 0 iteration\n",
      "Average pearson correlation is 0.18049028269559383\n",
      "Average rmse is 1.493394948097039\n",
      "Average accuracy is 0.3936731107205624\n",
      "After 10 iteration\n",
      "Average pearson correlation is 0.20122282046905993\n",
      "Average rmse is 1.535048181247334\n",
      "Average accuracy is 0.3693880811631251\n",
      "After 20 iteration\n",
      "Average pearson correlation is 0.20035852289351466\n",
      "Average rmse is 1.538768036399637\n",
      "Average accuracy is 0.36923591932379285\n",
      "After 30 iteration\n",
      "Average pearson correlation is 0.1948667127121492\n",
      "Average rmse is 1.544138236252917\n",
      "Average accuracy is 0.37003231475707243\n",
      "After 40 iteration\n",
      "Average pearson correlation is 0.19163889767645081\n",
      "Average rmse is 1.548585437792053\n",
      "Average accuracy is 0.3698401131638733\n",
      "After 50 iteration\n",
      "Average pearson correlation is 0.18905557417604268\n",
      "Average rmse is 1.5514969148566475\n",
      "Average accuracy is 0.3701368069196044\n",
      "After 60 iteration\n",
      "Average pearson correlation is 0.1885394456129721\n",
      "Average rmse is 1.5524081904310982\n",
      "Average accuracy is 0.3707107666599441\n",
      "After 70 iteration\n",
      "Average pearson correlation is 0.1892681294503044\n",
      "Average rmse is 1.554066879305619\n",
      "Average accuracy is 0.37087551672071095\n",
      "After 80 iteration\n",
      "Average pearson correlation is 0.1892813184018347\n",
      "Average rmse is 1.5514921216001865\n",
      "Average accuracy is 0.3700883074052377\n",
      "After 90 iteration\n",
      "Average pearson correlation is 0.19217969312469776\n",
      "Average rmse is 1.5483870729094655\n",
      "Average accuracy is 0.3700341837424438\n"
     ]
    }
   ],
   "source": [
    "sl_pc100, sl_rmse100, sl_acc100 = runmodel(features, label, RandomForestClassifier(),\n",
    "                                     100, al=False)"
   ]
  },
  {
   "cell_type": "markdown",
   "id": "8f15d568",
   "metadata": {},
   "source": [
    "# Only SCAPY NLP"
   ]
  },
  {
   "cell_type": "code",
   "execution_count": 30,
   "id": "72ffa38f",
   "metadata": {},
   "outputs": [],
   "source": [
    "features = word_embedding_score2\n",
    "label = data['score_avg'].to_numpy().astype(int)"
   ]
  },
  {
   "cell_type": "code",
   "execution_count": 31,
   "id": "fa0d22ef",
   "metadata": {},
   "outputs": [
    {
     "name": "stdout",
     "output_type": "stream",
     "text": [
      "After 0 iteration\n",
      "Average pearson correlation is 0.1800633222603693\n",
      "Average rmse is 1.565780826227628\n",
      "Average accuracy is 0.3936731107205624\n"
     ]
    }
   ],
   "source": [
    "al_pc1, al_rmse1, al_acc1 = runmodel(features, label, RandomForestClassifier(),\n",
    "                                     1, al=True)"
   ]
  },
  {
   "cell_type": "code",
   "execution_count": 32,
   "id": "34555603",
   "metadata": {},
   "outputs": [
    {
     "name": "stdout",
     "output_type": "stream",
     "text": [
      "After 0 iteration\n",
      "Average pearson correlation is 0.1395250822718243\n",
      "Average rmse is 1.6116884137630314\n",
      "Average accuracy is 0.38488576449912126\n"
     ]
    }
   ],
   "source": [
    "sl_pc1, sl_rmse1, sl_acc1 = runmodel(features, label, RandomForestClassifier(),\n",
    "                                     1, al=False)"
   ]
  },
  {
   "cell_type": "code",
   "execution_count": 33,
   "id": "b7cf9918",
   "metadata": {},
   "outputs": [
    {
     "name": "stdout",
     "output_type": "stream",
     "text": [
      "After 0 iteration\n",
      "Average pearson correlation is 0.2638917682064831\n",
      "Average rmse is 1.479205600698848\n",
      "Average accuracy is 0.39718804920913886\n",
      "After 10 iteration\n",
      "Average pearson correlation is 0.21003282470610826\n",
      "Average rmse is 1.5231215982166086\n",
      "Average accuracy is 0.39862597859082916\n",
      "After 20 iteration\n",
      "Average pearson correlation is 0.20987806852217836\n",
      "Average rmse is 1.525949109323047\n",
      "Average accuracy is 0.3961837810695455\n",
      "After 30 iteration\n",
      "Average pearson correlation is 0.20719503553669338\n",
      "Average rmse is 1.531547907334201\n",
      "Average accuracy is 0.39650773853393045\n",
      "After 40 iteration\n",
      "Average pearson correlation is 0.2078305181246542\n",
      "Average rmse is 1.5322765840407482\n",
      "Average accuracy is 0.3960306914141198\n",
      "After 50 iteration\n",
      "Average pearson correlation is 0.20873039470302773\n",
      "Average rmse is 1.5292328174007133\n",
      "Average accuracy is 0.3979117130156104\n",
      "After 60 iteration\n",
      "Average pearson correlation is 0.2129572704796933\n",
      "Average rmse is 1.5264902876997144\n",
      "Average accuracy is 0.3989455184534271\n",
      "After 70 iteration\n",
      "Average pearson correlation is 0.20917280164088325\n",
      "Average rmse is 1.533020895830858\n",
      "Average accuracy is 0.39869798757394975\n",
      "After 80 iteration\n",
      "Average pearson correlation is 0.2074357903121279\n",
      "Average rmse is 1.5346817240012964\n",
      "Average accuracy is 0.3979908438022087\n",
      "After 90 iteration\n",
      "Average pearson correlation is 0.2089207636187988\n",
      "Average rmse is 1.5326382403095706\n",
      "Average accuracy is 0.3978060603719655\n"
     ]
    }
   ],
   "source": [
    "al_pc100, al_rmse100, al_acc100 = runmodel(features, label, RandomForestClassifier(),\n",
    "                                     100, al=True)"
   ]
  },
  {
   "cell_type": "code",
   "execution_count": 34,
   "id": "98af58f7",
   "metadata": {},
   "outputs": [
    {
     "name": "stdout",
     "output_type": "stream",
     "text": [
      "After 0 iteration\n",
      "Average pearson correlation is 0.2340083965245084\n",
      "Average rmse is 1.4874991692632555\n",
      "Average accuracy is 0.3954305799648506\n",
      "After 10 iteration\n",
      "Average pearson correlation is 0.20451837755309968\n",
      "Average rmse is 1.5439721862569826\n",
      "Average accuracy is 0.3907972519571816\n",
      "After 20 iteration\n",
      "Average pearson correlation is 0.2041377034105392\n",
      "Average rmse is 1.547958033797971\n",
      "Average accuracy is 0.39484475688342113\n",
      "After 30 iteration\n",
      "Average pearson correlation is 0.20651537701824108\n",
      "Average rmse is 1.5436782663753637\n",
      "Average accuracy is 0.3949203469584444\n",
      "After 40 iteration\n",
      "Average pearson correlation is 0.20970219434363171\n",
      "Average rmse is 1.539610917434278\n",
      "Average accuracy is 0.3955163101718891\n",
      "After 50 iteration\n",
      "Average pearson correlation is 0.21121816209471753\n",
      "Average rmse is 1.5356994627494753\n",
      "Average accuracy is 0.3955339605086322\n",
      "After 60 iteration\n",
      "Average pearson correlation is 0.21054441310864883\n",
      "Average rmse is 1.5355666971731023\n",
      "Average accuracy is 0.39600679938920746\n",
      "After 70 iteration\n",
      "Average pearson correlation is 0.20873516367399766\n",
      "Average rmse is 1.5340178136817606\n",
      "Average accuracy is 0.3957771231961187\n",
      "After 80 iteration\n",
      "Average pearson correlation is 0.2077387208385446\n",
      "Average rmse is 1.5353263174168599\n",
      "Average accuracy is 0.39614658595326435\n",
      "After 90 iteration\n",
      "Average pearson correlation is 0.20859030961704225\n",
      "Average rmse is 1.5332805714463582\n",
      "Average accuracy is 0.3978639989184805\n"
     ]
    }
   ],
   "source": [
    "sl_pc100, sl_rmse100, sl_acc100 = runmodel(features, label, RandomForestClassifier(),\n",
    "                                     100, al=False)"
   ]
  },
  {
   "cell_type": "markdown",
   "id": "72c17312",
   "metadata": {},
   "source": [
    "# Word Embedding after chuncking"
   ]
  },
  {
   "cell_type": "code",
   "execution_count": 35,
   "id": "0908f5c8",
   "metadata": {},
   "outputs": [],
   "source": [
    "chunck_wordembedscore = np.zeros((len(data), 1))\n",
    "chunck_wordembedscore2 = np.zeros((len(data), 1))\n",
    "\n",
    "\n",
    "for count in range(len(data['answer'])):\n",
    "    \n",
    "     \n",
    "      \n",
    "    try:\n",
    "        chunck_wordembedscore[count,:] = process.word_embedding(process.chunking(data['refanswer'][count]), \n",
    "                                                                process.chunking(data['answer'][count]))\n",
    "        \n",
    "        chunck_wordembedscore2[count,:] = process.word_embedding2(process.chunking(data['refanswer'][count]), \n",
    "                                                                  process.chunking(data['answer'][count]))\n",
    "        \n",
    "    except:\n",
    "        chunck_wordembedscore[count,:] = 0\n",
    "        chunck_wordembedscore2[count,:] = 0"
   ]
  },
  {
   "cell_type": "code",
   "execution_count": 36,
   "id": "8d9aa5bc",
   "metadata": {},
   "outputs": [],
   "source": [
    "features = chunck_wordembedscore\n",
    "label = data['score_avg'].to_numpy().astype(int)"
   ]
  },
  {
   "cell_type": "code",
   "execution_count": 37,
   "id": "eb571246",
   "metadata": {},
   "outputs": [
    {
     "name": "stdout",
     "output_type": "stream",
     "text": [
      "After 0 iteration\n",
      "Average pearson correlation is 0.11443588163852209\n",
      "Average rmse is 1.586963587189393\n",
      "Average accuracy is 0.39191564147627417\n"
     ]
    }
   ],
   "source": [
    "al_pc1, al_rmse1, al_acc1 = runmodel(features, label, RandomForestClassifier(),\n",
    "                                     1, al=True)"
   ]
  },
  {
   "cell_type": "code",
   "execution_count": 38,
   "id": "35ee987b",
   "metadata": {},
   "outputs": [
    {
     "name": "stdout",
     "output_type": "stream",
     "text": [
      "After 0 iteration\n",
      "Average pearson correlation is 0.10182698370511437\n",
      "Average rmse is 1.608413730229964\n",
      "Average accuracy is 0.4024604569420035\n"
     ]
    }
   ],
   "source": [
    "sl_pc1, sl_rmse1, sl_acc1 = runmodel(features, label, RandomForestClassifier(),\n",
    "                                     1, al=False)"
   ]
  },
  {
   "cell_type": "code",
   "execution_count": 39,
   "id": "89fd4185",
   "metadata": {},
   "outputs": [
    {
     "name": "stdout",
     "output_type": "stream",
     "text": [
      "After 0 iteration\n",
      "Average pearson correlation is 0.06437119735167308\n",
      "Average rmse is 1.580860925375112\n",
      "Average accuracy is 0.3954305799648506\n",
      "After 10 iteration\n",
      "Average pearson correlation is 0.08837348076836475\n",
      "Average rmse is 1.5693184274662426\n",
      "Average accuracy is 0.40501677584278634\n",
      "After 20 iteration\n",
      "Average pearson correlation is 0.08210892931814916\n",
      "Average rmse is 1.5826142122776539\n",
      "Average accuracy is 0.4027115239769018\n",
      "After 30 iteration\n",
      "Average pearson correlation is 0.08148476584752086\n",
      "Average rmse is 1.5781344813869063\n",
      "Average accuracy is 0.40308407506094446\n",
      "After 40 iteration\n",
      "Average pearson correlation is 0.07650891074155086\n",
      "Average rmse is 1.588899654197793\n",
      "Average accuracy is 0.4000171460414077\n",
      "After 50 iteration\n",
      "Average pearson correlation is 0.07691059302864556\n",
      "Average rmse is 1.5902091425981104\n",
      "Average accuracy is 0.3999104035287226\n",
      "After 60 iteration\n",
      "Average pearson correlation is 0.07518270937109713\n",
      "Average rmse is 1.5878947816397309\n",
      "Average accuracy is 0.3999827134172693\n",
      "After 70 iteration\n",
      "Average pearson correlation is 0.07692816504436938\n",
      "Average rmse is 1.5873545707014471\n",
      "Average accuracy is 0.39966335800391095\n",
      "After 80 iteration\n",
      "Average pearson correlation is 0.07786159497640473\n",
      "Average rmse is 1.5856501096018127\n",
      "Average accuracy is 0.39911909566273945\n",
      "After 90 iteration\n",
      "Average pearson correlation is 0.07815807846102134\n",
      "Average rmse is 1.5843243089603902\n",
      "Average accuracy is 0.3996987195581219\n"
     ]
    }
   ],
   "source": [
    "al_pc100, al_rmse100, al_acc100 = runmodel(features, label, RandomForestClassifier(),\n",
    "                                           100, al=True)"
   ]
  },
  {
   "cell_type": "code",
   "execution_count": 40,
   "id": "bbccb90a",
   "metadata": {},
   "outputs": [
    {
     "name": "stdout",
     "output_type": "stream",
     "text": [
      "After 0 iteration\n",
      "Average pearson correlation is 0.07492925588901768\n",
      "Average rmse is 1.6241802041881392\n",
      "Average accuracy is 0.38312829525483305\n",
      "After 10 iteration\n",
      "Average pearson correlation is 0.09078332741404915\n",
      "Average rmse is 1.5968015633509085\n",
      "Average accuracy is 0.3970282792778399\n",
      "After 20 iteration\n",
      "Average pearson correlation is 0.0768245471568534\n",
      "Average rmse is 1.6020340479247297\n",
      "Average accuracy is 0.3940915557787263\n",
      "After 30 iteration\n",
      "Average pearson correlation is 0.07662400245285585\n",
      "Average rmse is 1.5945755389673637\n",
      "Average accuracy is 0.39458019162084024\n",
      "After 40 iteration\n",
      "Average pearson correlation is 0.0778273977609439\n",
      "Average rmse is 1.593168821458782\n",
      "Average accuracy is 0.39500192892965835\n",
      "After 50 iteration\n",
      "Average pearson correlation is 0.08388645687520711\n",
      "Average rmse is 1.5877926083437104\n",
      "Average accuracy is 0.39770495192804717\n",
      "After 60 iteration\n",
      "Average pearson correlation is 0.0817866004058152\n",
      "Average rmse is 1.5882998319500619\n",
      "Average accuracy is 0.39834048805785255\n",
      "After 70 iteration\n",
      "Average pearson correlation is 0.08092926777894335\n",
      "Average rmse is 1.5882315408447782\n",
      "Average accuracy is 0.3979553949355182\n",
      "After 80 iteration\n",
      "Average pearson correlation is 0.0828761659289199\n",
      "Average rmse is 1.5860381674831068\n",
      "Average accuracy is 0.39812102670919314\n",
      "After 90 iteration\n",
      "Average pearson correlation is 0.08129471130597776\n",
      "Average rmse is 1.5878564798964119\n",
      "Average accuracy is 0.3981730044998939\n"
     ]
    }
   ],
   "source": [
    "sl_pc100, sl_rmse100, sl_acc100 = runmodel(features, label, RandomForestClassifier(),\n",
    "                                           100, al=False)"
   ]
  },
  {
   "cell_type": "code",
   "execution_count": 41,
   "id": "d7ae2a3b",
   "metadata": {},
   "outputs": [],
   "source": [
    "features = chunck_wordembedscore2\n",
    "label = data['score_avg'].to_numpy().astype(int)"
   ]
  },
  {
   "cell_type": "code",
   "execution_count": 42,
   "id": "1bc2f82c",
   "metadata": {},
   "outputs": [
    {
     "name": "stdout",
     "output_type": "stream",
     "text": [
      "After 0 iteration\n",
      "Average pearson correlation is 0.11054030187812822\n",
      "Average rmse is 1.5640962847757196\n",
      "Average accuracy is 0.3954305799648506\n"
     ]
    }
   ],
   "source": [
    "al_pc1, al_rmse1, al_acc1 = runmodel(features, label, RandomForestClassifier(),\n",
    "                                     1, al=True)"
   ]
  },
  {
   "cell_type": "code",
   "execution_count": 43,
   "id": "22c352dd",
   "metadata": {},
   "outputs": [
    {
     "name": "stdout",
     "output_type": "stream",
     "text": [
      "After 0 iteration\n",
      "Average pearson correlation is 0.07023485445303922\n",
      "Average rmse is 1.5674635573163858\n",
      "Average accuracy is 0.39718804920913886\n"
     ]
    }
   ],
   "source": [
    "sl_pc1, sl_rmse1, sl_acc1 = runmodel(features, label, RandomForestClassifier(),\n",
    "                                     1, al=False)"
   ]
  },
  {
   "cell_type": "code",
   "execution_count": 44,
   "id": "8e789bfd",
   "metadata": {},
   "outputs": [
    {
     "name": "stdout",
     "output_type": "stream",
     "text": [
      "After 0 iteration\n",
      "Average pearson correlation is 0.031148344938536916\n",
      "Average rmse is 1.612778497359936\n",
      "Average accuracy is 0.37961335676625657\n",
      "After 10 iteration\n",
      "Average pearson correlation is 0.07460316825112306\n",
      "Average rmse is 1.6017795602888147\n",
      "Average accuracy is 0.3887202428502956\n",
      "After 20 iteration\n",
      "Average pearson correlation is 0.07727081706993498\n",
      "Average rmse is 1.5943833995877281\n",
      "Average accuracy is 0.38982341618545485\n",
      "After 30 iteration\n",
      "Average pearson correlation is 0.07858160017247692\n",
      "Average rmse is 1.5921412483843411\n",
      "Average accuracy is 0.3901581722319859\n",
      "After 40 iteration\n",
      "Average pearson correlation is 0.08061024274357216\n",
      "Average rmse is 1.5913625281479205\n",
      "Average accuracy is 0.3908868789918128\n",
      "After 50 iteration\n",
      "Average pearson correlation is 0.07612237649151499\n",
      "Average rmse is 1.5963443092043703\n",
      "Average accuracy is 0.3896412695130776\n",
      "After 60 iteration\n",
      "Average pearson correlation is 0.07631475999631632\n",
      "Average rmse is 1.5981217155275536\n",
      "Average accuracy is 0.3896395747500648\n",
      "After 70 iteration\n",
      "Average pearson correlation is 0.07663783100806293\n",
      "Average rmse is 1.5950464741295194\n",
      "Average accuracy is 0.39203940691601274\n",
      "After 80 iteration\n",
      "Average pearson correlation is 0.07635229627084181\n",
      "Average rmse is 1.5952577682249536\n",
      "Average accuracy is 0.3930221961856409\n",
      "After 90 iteration\n",
      "Average pearson correlation is 0.07685090930763071\n",
      "Average rmse is 1.593841080826523\n",
      "Average accuracy is 0.39201220572046586\n"
     ]
    }
   ],
   "source": [
    "al_pc100, al_rmse100, al_acc100 = runmodel(features, label, RandomForestClassifier(),\n",
    "                                           100, al=True)"
   ]
  },
  {
   "cell_type": "code",
   "execution_count": 45,
   "id": "87c6c7bf",
   "metadata": {},
   "outputs": [
    {
     "name": "stdout",
     "output_type": "stream",
     "text": [
      "After 0 iteration\n",
      "Average pearson correlation is 0.06332185408607682\n",
      "Average rmse is 1.6111430953871566\n",
      "Average accuracy is 0.39191564147627417\n",
      "After 10 iteration\n",
      "Average pearson correlation is 0.08424306493972962\n",
      "Average rmse is 1.5823424683433955\n",
      "Average accuracy is 0.39111679181977954\n",
      "After 20 iteration\n",
      "Average pearson correlation is 0.07631961996012601\n",
      "Average rmse is 1.590496204232446\n",
      "Average accuracy is 0.3904092392668843\n",
      "After 30 iteration\n",
      "Average pearson correlation is 0.0766603222508971\n",
      "Average rmse is 1.5852408029114455\n",
      "Average accuracy is 0.39265264470774985\n",
      "After 40 iteration\n",
      "Average pearson correlation is 0.07654035529334391\n",
      "Average rmse is 1.5874915127495517\n",
      "Average accuracy is 0.3905010930601397\n",
      "After 50 iteration\n",
      "Average pearson correlation is 0.08163127841891098\n",
      "Average rmse is 1.5811970058724225\n",
      "Average accuracy is 0.39129535821358413\n",
      "After 60 iteration\n",
      "Average pearson correlation is 0.08009605219582669\n",
      "Average rmse is 1.584186040339307\n",
      "Average accuracy is 0.39102250136852107\n",
      "After 70 iteration\n",
      "Average pearson correlation is 0.08082028620255467\n",
      "Average rmse is 1.5842915322788627\n",
      "Average accuracy is 0.39174236986064004\n",
      "After 80 iteration\n",
      "Average pearson correlation is 0.07944623225629732\n",
      "Average rmse is 1.5853958759791036\n",
      "Average accuracy is 0.3920458243832585\n",
      "After 90 iteration\n",
      "Average pearson correlation is 0.08058786732850512\n",
      "Average rmse is 1.5849636576703574\n",
      "Average accuracy is 0.3928040325228374\n"
     ]
    }
   ],
   "source": [
    "sl_pc100, sl_rmse100, sl_acc100 = runmodel(features, label, RandomForestClassifier(),\n",
    "                                           100, al=False)"
   ]
  },
  {
   "cell_type": "markdown",
   "id": "11494a25",
   "metadata": {},
   "source": [
    "## AL with Random Forest"
   ]
  },
  {
   "cell_type": "code",
   "execution_count": 25,
   "id": "eec737a1",
   "metadata": {},
   "outputs": [
    {
     "name": "stdout",
     "output_type": "stream",
     "text": [
      "After 0 iteration\n",
      "Average pearson correlation is 0.4500329979580218\n",
      "Average rmse is 1.2012003369799031\n",
      "Average accuracy is 0.5254833040421792\n"
     ]
    }
   ],
   "source": [
    "# AL with random forest\n",
    "al_pc1, al_rmse1, al_acc1 = runmodel(features, label, RandomForestClassifier(),\n",
    "                                     1, al=True)"
   ]
  },
  {
   "cell_type": "code",
   "execution_count": 26,
   "id": "73920d7f",
   "metadata": {},
   "outputs": [
    {
     "name": "stdout",
     "output_type": "stream",
     "text": [
      "After 0 iteration\n",
      "Average pearson correlation is 0.44128455389241417\n",
      "Average rmse is 1.198270575697943\n",
      "Average accuracy is 0.523725834797891\n"
     ]
    }
   ],
   "source": [
    "sl_pc1, sl_rmse1, sl_acc1 = runmodel(features, label, RandomForestClassifier(),\n",
    "                                     1, al=False)"
   ]
  },
  {
   "cell_type": "code",
   "execution_count": 27,
   "id": "9af96ce3",
   "metadata": {},
   "outputs": [
    {
     "name": "stdout",
     "output_type": "stream",
     "text": [
      "After 0 iteration\n",
      "Average pearson correlation is 0.4717537831989118\n",
      "Average rmse is 1.2265372693525136\n",
      "Average accuracy is 0.5325131810193322\n"
     ]
    }
   ],
   "source": [
    "al_pc1r, al_rmse1r, al_acc1r = runmodel(features, label, RandomForestClassifier(300),\n",
    "                                        1, al=True)"
   ]
  },
  {
   "cell_type": "code",
   "execution_count": 28,
   "id": "ff9e1759",
   "metadata": {},
   "outputs": [
    {
     "name": "stdout",
     "output_type": "stream",
     "text": [
      "After 0 iteration\n",
      "Average pearson correlation is 0.5443848758701109\n",
      "Average rmse is 1.1287892638171941\n",
      "Average accuracy is 0.5483304042179262\n"
     ]
    }
   ],
   "source": [
    "sl_pc1r, sl_rmse1r, sl_acc1r = runmodel(features, label, RandomForestClassifier(300),\n",
    "                                        1, al=False)"
   ]
  },
  {
   "cell_type": "code",
   "execution_count": 29,
   "id": "3e8161b3",
   "metadata": {},
   "outputs": [
    {
     "name": "stdout",
     "output_type": "stream",
     "text": [
      "After 0 iteration\n",
      "Average pearson correlation is 0.2138675915458362\n",
      "Average rmse is 1.5091985093411469\n",
      "Average accuracy is 0.4868189806678383\n"
     ]
    }
   ],
   "source": [
    "al_pc1s, al_rmse1s, al_acc1s = runmodel(features, label, svm.SVC(),\n",
    "                                        1, al=True)"
   ]
  },
  {
   "cell_type": "code",
   "execution_count": 30,
   "id": "7edf6fd8",
   "metadata": {},
   "outputs": [
    {
     "name": "stdout",
     "output_type": "stream",
     "text": [
      "After 0 iteration\n",
      "Average pearson correlation is 0.29344790073173854\n",
      "Average rmse is 1.4388532829206488\n",
      "Average accuracy is 0.4710017574692443\n"
     ]
    }
   ],
   "source": [
    "sl_pc1s, sl_rmse1s, sl_acc1s = runmodel(features, label, svm.SVC(),\n",
    "                                        1, al=False)"
   ]
  },
  {
   "cell_type": "code",
   "execution_count": 31,
   "id": "ee2e8067",
   "metadata": {},
   "outputs": [],
   "source": [
    "plotting = Plot()"
   ]
  },
  {
   "cell_type": "markdown",
   "id": "fb3a13b3",
   "metadata": {},
   "source": [
    "## All for loop"
   ]
  },
  {
   "cell_type": "code",
   "execution_count": 39,
   "id": "380c1ae5",
   "metadata": {},
   "outputs": [
    {
     "name": "stdout",
     "output_type": "stream",
     "text": [
      "After 0 iteration\n",
      "Average pearson correlation is 0.5081465571619691\n",
      "Average rmse is 1.1975370154359286\n",
      "Average accuracy is 0.546572934973638\n",
      "After 10 iteration\n",
      "Average pearson correlation is 0.5116794671639467\n",
      "Average rmse is 1.1765176032303741\n",
      "Average accuracy is 0.5497683335996165\n",
      "After 20 iteration\n",
      "Average pearson correlation is 0.521619850061118\n",
      "Average rmse is 1.1604863595151316\n",
      "Average accuracy is 0.553184366892627\n",
      "After 30 iteration\n",
      "Average pearson correlation is 0.5208760839123655\n",
      "Average rmse is 1.1614003427894972\n",
      "Average accuracy is 0.5540563524009298\n",
      "After 40 iteration\n",
      "Average pearson correlation is 0.5226332180440191\n",
      "Average rmse is 1.1607853548115465\n",
      "Average accuracy is 0.5539028676754254\n",
      "After 50 iteration\n",
      "Average pearson correlation is 0.523539331719007\n",
      "Average rmse is 1.155745160706564\n",
      "Average accuracy is 0.5559461042765085\n",
      "After 60 iteration\n",
      "Average pearson correlation is 0.5269414417322164\n",
      "Average rmse is 1.1549492919904392\n",
      "Average accuracy is 0.5547264398282867\n",
      "After 70 iteration\n",
      "Average pearson correlation is 0.5282065347347087\n",
      "Average rmse is 1.1530102929231627\n",
      "Average accuracy is 0.5553107750191835\n",
      "After 80 iteration\n",
      "Average pearson correlation is 0.5283449834591124\n",
      "Average rmse is 1.152676564301528\n",
      "Average accuracy is 0.5546659723578294\n",
      "After 90 iteration\n",
      "Average pearson correlation is 0.5280160477874077\n",
      "Average rmse is 1.1518500330431958\n",
      "Average accuracy is 0.5550512756136657\n"
     ]
    }
   ],
   "source": [
    "al_pc100, al_rmse100, al_acc100 = runmodel(features, label, RandomForestClassifier(),\n",
    "                                            100, al=True)"
   ]
  },
  {
   "cell_type": "code",
   "execution_count": 40,
   "id": "84b74b18",
   "metadata": {},
   "outputs": [
    {
     "data": {
      "image/png": "[encoded data removed]",
      "text/plain": [
       "<Figure size 720x360 with 1 Axes>"
      ]
     },
     "metadata": {
      "needs_background": "light"
     },
     "output_type": "display_data"
    }
   ],
   "source": [
    "plotting.line_plot('Pearson correlation of your model', \n",
    "                   'Pearson co-relation', \n",
    "                   'Number of Iterations', \n",
    "                   'Pearson corelation',\n",
    "                    range(len(al_pc100)),d\n",
    "                    al_pc100)"
   ]
  },
  {
   "cell_type": "code",
   "execution_count": 41,
   "id": "6195dc24",
   "metadata": {},
   "outputs": [
    {
     "data": {
      "image/png": "[encoded data removed]",
      "text/plain": [
       "<Figure size 720x360 with 1 Axes>"
      ]
     },
     "metadata": {
      "needs_background": "light"
     },
     "output_type": "display_data"
    }
   ],
   "source": [
    "plotting.line_plot('Pearson correlation of your model', \n",
    "                   'Pearson co-relation', \n",
    "                   'Number of Iterations', \n",
    "                   'Pearson corelation',\n",
    "                    range(len(al_rmse100)),\n",
    "                    al_rmse100)"
   ]
  },
  {
   "cell_type": "code",
   "execution_count": 42,
   "id": "cc043497",
   "metadata": {},
   "outputs": [
    {
     "data": {
      "image/png": "[encoded data removed]",
      "text/plain": [
       "<Figure size 720x360 with 1 Axes>"
      ]
     },
     "metadata": {
      "needs_background": "light"
     },
     "output_type": "display_data"
    }
   ],
   "source": [
    "plotting.line_plot('Accuracy of your model', \n",
    "                   'Accuracy', \n",
    "                   'Number of Iterations', \n",
    "                   'Accuracy',\n",
    "                   range(len(al_acc100)),\n",
    "                   al_acc100)"
   ]
  },
  {
   "cell_type": "code",
   "execution_count": 43,
   "id": "b8f73753",
   "metadata": {},
   "outputs": [
    {
     "name": "stdout",
     "output_type": "stream",
     "text": [
      "After 0 iteration\n",
      "Average pearson correlation is 0.5712621380735081\n",
      "Average rmse is 1.1427159089231895\n",
      "Average accuracy is 0.5360281195079086\n",
      "After 10 iteration\n",
      "Average pearson correlation is 0.5280882219124431\n",
      "Average rmse is 1.152956829016908\n",
      "Average accuracy is 0.5459338552484423\n",
      "After 20 iteration\n",
      "Average pearson correlation is 0.5307987300758997\n",
      "Average rmse is 1.143408171964076\n",
      "Average accuracy is 0.5526822328228305\n",
      "After 30 iteration\n",
      "Average pearson correlation is 0.5401441166052797\n",
      "Average rmse is 1.1347806430866765\n",
      "Average accuracy is 0.5569476727705653\n",
      "After 40 iteration\n",
      "Average pearson correlation is 0.5395372569064649\n",
      "Average rmse is 1.1388448439548633\n",
      "Average accuracy is 0.5548458999528483\n",
      "After 50 iteration\n",
      "Average pearson correlation is 0.5387503495414536\n",
      "Average rmse is 1.138521518424535\n",
      "Average accuracy is 0.5570143698955857\n",
      "After 60 iteration\n",
      "Average pearson correlation is 0.5359431950982905\n",
      "Average rmse is 1.1411871798043356\n",
      "Average accuracy is 0.5576651588925062\n",
      "After 70 iteration\n",
      "Average pearson correlation is 0.536052621219684\n",
      "Average rmse is 1.1419947679660065\n",
      "Average accuracy is 0.5580088616054855\n",
      "After 80 iteration\n",
      "Average pearson correlation is 0.536423278401229\n",
      "Average rmse is 1.142464956195991\n",
      "Average accuracy is 0.5570960532882032\n",
      "After 90 iteration\n",
      "Average pearson correlation is 0.534464618291\n",
      "Average rmse is 1.1446728911985047\n",
      "Average accuracy is 0.557272253230074\n"
     ]
    }
   ],
   "source": [
    "sl_pc100, sl_rmse100, sl_acc100 = runmodel(features, label, RandomForestClassifier(),\n",
    "                                            100, al=False)"
   ]
  },
  {
   "cell_type": "code",
   "execution_count": 46,
   "id": "331e7d5a",
   "metadata": {},
   "outputs": [
    {
     "name": "stdout",
     "output_type": "stream",
     "text": [
      "After 0 iteration\n",
      "Average pearson correlation is 0.5671173475285414\n",
      "Average rmse is 1.088363115256238\n",
      "Average accuracy is 0.5746924428822495\n",
      "After 10 iteration\n",
      "Average pearson correlation is 0.5295509818522868\n",
      "Average rmse is 1.1401149631715095\n",
      "Average accuracy is 0.557597060233264\n",
      "After 20 iteration\n",
      "Average pearson correlation is 0.5372035526402675\n",
      "Average rmse is 1.14437749774951\n",
      "Average accuracy is 0.5556950372416102\n",
      "After 30 iteration\n",
      "Average pearson correlation is 0.5327686684191693\n",
      "Average rmse is 1.1503269760955401\n",
      "Average accuracy is 0.552072112931572\n",
      "After 40 iteration\n",
      "Average pearson correlation is 0.5279152686951346\n",
      "Average rmse is 1.1570683452682617\n",
      "Average accuracy is 0.5511166359466758\n",
      "After 50 iteration\n",
      "Average pearson correlation is 0.5298808350787757\n",
      "Average rmse is 1.1544759083960348\n",
      "Average accuracy is 0.5519142630690237\n",
      "After 60 iteration\n",
      "Average pearson correlation is 0.5316716312444435\n",
      "Average rmse is 1.1515842597374644\n",
      "Average accuracy is 0.5546976288570687\n",
      "After 70 iteration\n",
      "Average pearson correlation is 0.5326663323972539\n",
      "Average rmse is 1.1500579080393745\n",
      "Average accuracy is 0.5547662070843339\n",
      "After 80 iteration\n",
      "Average pearson correlation is 0.5332729136340317\n",
      "Average rmse is 1.150132963276848\n",
      "Average accuracy is 0.555251795439259\n",
      "After 90 iteration\n",
      "Average pearson correlation is 0.5341277567942129\n",
      "Average rmse is 1.150696131592434\n",
      "Average accuracy is 0.5552830297997258\n"
     ]
    }
   ],
   "source": [
    "al_pc100r, al_rmse100r, al_acc100r = runmodel(features, label, RandomForestClassifier(300),\n",
    "                                              100, al=True)"
   ]
  },
  {
   "cell_type": "code",
   "execution_count": 47,
   "id": "5a5fae22",
   "metadata": {},
   "outputs": [
    {
     "name": "stdout",
     "output_type": "stream",
     "text": [
      "After 0 iteration\n",
      "Average pearson correlation is 0.5327654714424833\n",
      "Average rmse is 1.1663109341333837\n",
      "Average accuracy is 0.5553602811950791\n",
      "After 10 iteration\n",
      "Average pearson correlation is 0.5224288516317263\n",
      "Average rmse is 1.1587446520606255\n",
      "Average accuracy is 0.5567982105767695\n",
      "After 20 iteration\n",
      "Average pearson correlation is 0.5318160222283412\n",
      "Average rmse is 1.145398569809743\n",
      "Average accuracy is 0.561971713114068\n",
      "After 30 iteration\n",
      "Average pearson correlation is 0.5332054038353224\n",
      "Average rmse is 1.1506947257320141\n",
      "Average accuracy is 0.5564941323204263\n",
      "After 40 iteration\n",
      "Average pearson correlation is 0.5356129051033413\n",
      "Average rmse is 1.150245469396553\n",
      "Average accuracy is 0.5554031462985983\n",
      "After 50 iteration\n",
      "Average pearson correlation is 0.5348249519151033\n",
      "Average rmse is 1.1515791746025679\n",
      "Average accuracy is 0.5547055377511285\n",
      "After 60 iteration\n",
      "Average pearson correlation is 0.5337120360423547\n",
      "Average rmse is 1.151487453478017\n",
      "Average accuracy is 0.5549569275980295\n",
      "After 70 iteration\n",
      "Average pearson correlation is 0.5363034088882498\n",
      "Average rmse is 1.1484634829167681\n",
      "Average accuracy is 0.5560038614817199\n",
      "After 80 iteration\n",
      "Average pearson correlation is 0.5366281093225428\n",
      "Average rmse is 1.148507726721542\n",
      "Average accuracy is 0.5562932586951334\n",
      "After 90 iteration\n",
      "Average pearson correlation is 0.5361193931647391\n",
      "Average rmse is 1.1495952132042664\n",
      "Average accuracy is 0.5557658510206842\n"
     ]
    }
   ],
   "source": [
    "sl_pc100r, sl_rmse100r, sl_acc100r = runmodel(features, label, RandomForestClassifier(300),\n",
    "                                              100, al=False)"
   ]
  },
  {
   "cell_type": "code",
   "execution_count": 44,
   "id": "fcf4a0fe",
   "metadata": {},
   "outputs": [
    {
     "name": "stdout",
     "output_type": "stream",
     "text": [
      "After 0 iteration\n",
      "Average pearson correlation is 0.017503806537020744\n",
      "Average rmse is 1.584747156516734\n",
      "Average accuracy is 0.44815465729349735\n"
     ]
    },
    {
     "name": "stderr",
     "output_type": "stream",
     "text": [
      "/home/ganesh/anaconda3/envs/asag/lib/python3.9/site-packages/scipy/stats/stats.py:4023: PearsonRConstantInputWarning: An input array is constant; the correlation coefficient is not defined.\n",
      "  warnings.warn(PearsonRConstantInputWarning())\n"
     ]
    },
    {
     "name": "stdout",
     "output_type": "stream",
     "text": [
      "After 10 iteration\n",
      "Average pearson correlation is nan\n",
      "Average rmse is 1.5107375528197713\n",
      "Average accuracy is 0.4793097938967886\n",
      "After 20 iteration\n",
      "Average pearson correlation is nan\n",
      "Average rmse is 1.4786379762644213\n",
      "Average accuracy is 0.4869863586911039\n",
      "After 30 iteration\n",
      "Average pearson correlation is nan\n",
      "Average rmse is 1.4808382221670606\n",
      "Average accuracy is 0.48795283179318555\n"
     ]
    },
    {
     "name": "stderr",
     "output_type": "stream",
     "text": [
      "/home/ganesh/anaconda3/envs/asag/lib/python3.9/site-packages/scipy/stats/stats.py:4023: PearsonRConstantInputWarning: An input array is constant; the correlation coefficient is not defined.\n",
      "  warnings.warn(PearsonRConstantInputWarning())\n",
      "/home/ganesh/anaconda3/envs/asag/lib/python3.9/site-packages/scipy/stats/stats.py:4023: PearsonRConstantInputWarning: An input array is constant; the correlation coefficient is not defined.\n",
      "  warnings.warn(PearsonRConstantInputWarning())\n"
     ]
    },
    {
     "name": "stdout",
     "output_type": "stream",
     "text": [
      "After 40 iteration\n",
      "Average pearson correlation is nan\n",
      "Average rmse is 1.4914944664397407\n",
      "Average accuracy is 0.4854472973552231\n",
      "After 50 iteration\n",
      "Average pearson correlation is nan\n",
      "Average rmse is 1.4986186711795884\n",
      "Average accuracy is 0.4815121127537131\n",
      "After 60 iteration\n",
      "Average pearson correlation is nan\n",
      "Average rmse is 1.4989574525934999\n",
      "Average accuracy is 0.48166181681984493\n",
      "After 70 iteration\n",
      "Average pearson correlation is nan\n",
      "Average rmse is 1.500405356447874\n",
      "Average accuracy is 0.48132379514344414\n",
      "After 80 iteration\n",
      "Average pearson correlation is nan\n",
      "Average rmse is 1.495435513658146\n",
      "Average accuracy is 0.4828700991559809\n"
     ]
    },
    {
     "name": "stderr",
     "output_type": "stream",
     "text": [
      "/home/ganesh/anaconda3/envs/asag/lib/python3.9/site-packages/scipy/stats/stats.py:4023: PearsonRConstantInputWarning: An input array is constant; the correlation coefficient is not defined.\n",
      "  warnings.warn(PearsonRConstantInputWarning())\n",
      "/home/ganesh/anaconda3/envs/asag/lib/python3.9/site-packages/scipy/stats/stats.py:4023: PearsonRConstantInputWarning: An input array is constant; the correlation coefficient is not defined.\n",
      "  warnings.warn(PearsonRConstantInputWarning())\n"
     ]
    },
    {
     "name": "stdout",
     "output_type": "stream",
     "text": [
      "After 90 iteration\n",
      "Average pearson correlation is nan\n",
      "Average rmse is 1.494447338093424\n",
      "Average accuracy is 0.48285984665598014\n"
     ]
    }
   ],
   "source": [
    "al_pc100s, al_rmse100s, al_acc100s = runmodel(features, label, svm.SVC(),\n",
    "                                              100, al=True)"
   ]
  },
  {
   "cell_type": "code",
   "execution_count": 45,
   "id": "f922a0ce",
   "metadata": {},
   "outputs": [
    {
     "name": "stdout",
     "output_type": "stream",
     "text": [
      "After 0 iteration\n",
      "Average pearson correlation is 0.4091512684889338\n",
      "Average rmse is 1.4092339216913898\n",
      "Average accuracy is 0.492091388400703\n",
      "After 10 iteration\n",
      "Average pearson correlation is 0.31331641651816\n",
      "Average rmse is 1.4663288003169077\n",
      "Average accuracy is 0.4831442722479629\n"
     ]
    },
    {
     "name": "stderr",
     "output_type": "stream",
     "text": [
      "/home/ganesh/anaconda3/envs/asag/lib/python3.9/site-packages/scipy/stats/stats.py:4023: PearsonRConstantInputWarning: An input array is constant; the correlation coefficient is not defined.\n",
      "  warnings.warn(PearsonRConstantInputWarning())\n"
     ]
    },
    {
     "name": "stdout",
     "output_type": "stream",
     "text": [
      "After 20 iteration\n",
      "Average pearson correlation is nan\n",
      "Average rmse is 1.493148298613212\n",
      "Average accuracy is 0.47962172566741995\n",
      "After 30 iteration\n",
      "Average pearson correlation is nan\n",
      "Average rmse is 1.489781187155437\n",
      "Average accuracy is 0.48041272180962646\n",
      "After 40 iteration\n",
      "Average pearson correlation is nan\n",
      "Average rmse is 1.479877803421103\n",
      "Average accuracy is 0.4831754468687042\n",
      "After 50 iteration\n",
      "Average pearson correlation is nan\n",
      "Average rmse is 1.4894575686575375\n",
      "Average accuracy is 0.4812364313036287\n",
      "After 60 iteration\n",
      "Average pearson correlation is nan\n",
      "Average rmse is 1.4950160411820939\n",
      "Average accuracy is 0.4812584632227952\n",
      "After 70 iteration\n",
      "Average pearson correlation is nan\n",
      "Average rmse is 1.4882472964749602\n",
      "Average accuracy is 0.4829822520359415\n"
     ]
    },
    {
     "name": "stderr",
     "output_type": "stream",
     "text": [
      "/home/ganesh/anaconda3/envs/asag/lib/python3.9/site-packages/scipy/stats/stats.py:4023: PearsonRConstantInputWarning: An input array is constant; the correlation coefficient is not defined.\n",
      "  warnings.warn(PearsonRConstantInputWarning())\n",
      "/home/ganesh/anaconda3/envs/asag/lib/python3.9/site-packages/scipy/stats/stats.py:4023: PearsonRConstantInputWarning: An input array is constant; the correlation coefficient is not defined.\n",
      "  warnings.warn(PearsonRConstantInputWarning())\n"
     ]
    },
    {
     "name": "stdout",
     "output_type": "stream",
     "text": [
      "After 80 iteration\n",
      "Average pearson correlation is nan\n",
      "Average rmse is 1.4906637655832542\n",
      "Average accuracy is 0.48282670485365276\n"
     ]
    },
    {
     "name": "stderr",
     "output_type": "stream",
     "text": [
      "/home/ganesh/anaconda3/envs/asag/lib/python3.9/site-packages/scipy/stats/stats.py:4023: PearsonRConstantInputWarning: An input array is constant; the correlation coefficient is not defined.\n",
      "  warnings.warn(PearsonRConstantInputWarning())\n"
     ]
    },
    {
     "name": "stdout",
     "output_type": "stream",
     "text": [
      "After 90 iteration\n",
      "Average pearson correlation is nan\n",
      "Average rmse is 1.4918392234122255\n",
      "Average accuracy is 0.4828791595048186\n"
     ]
    },
    {
     "name": "stderr",
     "output_type": "stream",
     "text": [
      "/home/ganesh/anaconda3/envs/asag/lib/python3.9/site-packages/scipy/stats/stats.py:4023: PearsonRConstantInputWarning: An input array is constant; the correlation coefficient is not defined.\n",
      "  warnings.warn(PearsonRConstantInputWarning())\n",
      "/home/ganesh/anaconda3/envs/asag/lib/python3.9/site-packages/scipy/stats/stats.py:4023: PearsonRConstantInputWarning: An input array is constant; the correlation coefficient is not defined.\n",
      "  warnings.warn(PearsonRConstantInputWarning())\n"
     ]
    }
   ],
   "source": [
    "sl_pc100s, sl_rmse100s, sl_acc100s = runmodel(features, label, svm.SVC(),\n",
    "                                              100, al=False)"
   ]
  }
 ],
 "metadata": {
  "kernelspec": {
   "display_name": "Python 3",
   "language": "python",
   "name": "python3"
  },
  "language_info": {
   "codemirror_mode": {
    "name": "ipython",
    "version": 3
   },
   "file_extension": ".py",
   "mimetype": "text/x-python",
   "name": "python",
   "nbconvert_exporter": "python",
   "pygments_lexer": "ipython3",
   "version": "3.6.13"
  }
 },
 "nbformat": 4,
 "nbformat_minor": 5
}
